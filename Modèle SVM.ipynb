{
 "cells": [
  {
   "cell_type": "code",
   "execution_count": 7,
   "metadata": {
    "collapsed": true
   },
   "outputs": [],
   "source": [
    "import pandas as pd\n",
    "from sklearn.model_selection import train_test_split\n",
    "from sklearn.svm import SVC\n",
    "from sklearn.model_selection import train_test_split\n",
    "from sklearn.preprocessing import MinMaxScaler; scaler = MinMaxScaler()\n",
    "from sklearn.model_selection import validation_curve\n",
    "import numpy as np\n",
    "import matplotlib.pyplot as plt"
   ]
  },
  {
   "cell_type": "markdown",
   "metadata": {},
   "source": [
    "On part d'un dataset contenant le taux de mortalité calculé par tranche d'âge et par sexe, pour chaque pays et pour chaque année. \n",
    "Les valeurs manquantes des indicateurs ont été remplacées par la dernière année disponible par pays.\n",
    "data.csv est issu du programme xxx et il comprend :\n",
    "    - une séléction d'années : 16 années (2000 - 2015)\n",
    "    - tous les pays ayant une correpondance entre le fichier mortalité et le fichier worldbank : 99 pays\n",
    "    - un type de cancer : C33, C34 (cancer du poumon); pas de variable type de cancer présente dans le dataset\n",
    "    - une séléction d'indicateurs : 44 choisis parmis ceux avec moins de 25% de valeurs manquantes"
   ]
  },
  {
   "cell_type": "markdown",
   "metadata": {},
   "source": [
    "Liste des indicateurs, choisis pour avoir moins de 25% des valeurs manquantes :\n",
    "        AG.LND.AGRI.K2\tAgricultural land (sq. km)\t0.096926511\n",
    "        AG.LND.AGRI.ZS\tAgricultural land (% of land area)\t0.107572115\n",
    "        AG.PRD.CROP.XD\tCrop production index (2004-2006 = 100)\t0.126373626\n",
    "        AG.PRD.FOOD.XD\tFood production index (2004-2006 = 100)\t0.122510302\n",
    "        AG.PRD.LVSK.XD\tLivestock production index (2004-2006 = 100)\t0.125429258\n",
    "        AG.SRF.TOTL.K2\tSurface area (sq. km)\t0.01356456\n",
    "        EN.ATM.CO2E.GF.ZS\tCO2 emissions from gaseous fuel consumption (% of total)\t0.148866758\n",
    "        EN.ATM.CO2E.KT\tCO2 emissions (kt)\t0.158739698\n",
    "        EN.ATM.CO2E.LF.KT\tCO2 emissions from liquid fuel consumption (kt)\t0.154447115\n",
    "        EN.ATM.CO2E.LF.ZS\tCO2 emissions from liquid fuel consumption (% of total)\t0.148866758\n",
    "        EN.ATM.CO2E.PC\tCO2 emissions (metric tons per capita)\t0.159168956\n",
    "        EN.ATM.CO2E.SF.ZS\tCO2 emissions from solid fuel consumption (% of total)\t0.148866758\n",
    "        EN.ATM.GHGO.KT.CE\tOther greenhouse gas emissions, HFC, PFC and SF6 (thousand metric tons of CO2 equivalent)\t0.107486264\n",
    "        EN.ATM.GHGT.KT.CE\tTotal greenhouse gas emissions (kt of CO2 equivalent)\t0.145861951\n",
    "        EN.ATM.METH.AG.KT.CE\tAgricultural methane emissions (thousand metric tons of CO2 equivalent)\t0.154447115\n",
    "        EN.ATM.METH.EG.KT.CE\tMethane emissions in energy sector (thousand metric tons of CO2 equivalent)\t0.154447115\n",
    "        EN.ATM.METH.KT.CE\tMethane emissions (kt of CO2 equivalent)\t0.095896291\n",
    "        EN.ATM.NOXE.AG.KT.CE\tAgricultural nitrous oxide emissions (thousand metric tons of CO2 equivalent)\t0.154447115\n",
    "        EN.ATM.NOXE.EG.KT.CE\tNitrous oxide emissions in energy sector (thousand metric tons of CO2 equivalent)\t0.154447115\n",
    "        EN.ATM.NOXE.KT.CE\tNitrous oxide emissions (thousand metric tons of CO2 equivalent)\t0.09220467\n",
    "        EN.POP.DNST\tPopulation density (people per sq. km of land area)\t0.019059066\n",
    "        IT.CEL.SETS\tMobile cellular subscriptions\t0.123025412\n",
    "        IT.MLT.MAIN\tFixed telephone subscriptions\t0.144316621\n",
    "        NY.ADJ.AEDU.GN.ZS\tAdjusted savings: education expenditure (% of GNI)\t0.054601648\n",
    "        NY.GDP.FRST.RT.ZS\tForest rents (% of GDP)\t0.152730082\n",
    "        NY.GDP.MINR.RT.ZS\tMineral rents (% of GDP)\t0.152730082\n",
    "        NY.GDP.MKTP.CD\tGDP (current US$)\t0.165350275\n",
    "        NY.GDP.PCAP.CD\tGDP per capita (current US$)\t0.16560783\n",
    "        NY.GDP.TOTL.RT.ZS\tTotal natural resources rents (% of GDP)\t0.154447115\n",
    "        SE.PRE.DURS\tPreprimary education, duration (years)\t0.015024038\n",
    "        SE.PRM.DURS\tPrimary education, duration (years)\t0.010903159\n",
    "        SE.SEC.DURS\tSecondary education, duration (years)\t0.025068681\n",
    "        SP.ADO.TFRT\tAdolescent fertility rate (births per 1,000 women ages 15-19)\t0.066449176\n",
    "        SP.DYN.AMRT.FE\tMortality rate, adult, female (per 1,000 female adults)\t0.077781593\n",
    "        SP.DYN.AMRT.MA\tMortality rate, adult, male (per 1,000 male adults)\t0.077781593\n",
    "        SP.DYN.CBRT.IN\tBirth rate, crude (per 1,000 people)\t0.051682692\n",
    "        SP.DYN.CDRT.IN\tDeath rate, crude (per 1,000 people)\t0.053571429\n",
    "        SP.DYN.LE00.FE.IN\tLife expectancy at birth, female (years)\t0.066706731\n",
    "        SP.DYN.LE00.IN\tLife expectancy at birth, total (years)\t0.066706731\n",
    "        SP.DYN.TFRT.IN\tFertility rate, total (births per woman)\t0.066277473\n",
    "        SP.POP.DPND\tAge dependency ratio (% of working-age population)\t0.070484203\n",
    "        SP.POP.GROW\tPopulation growth (annual %)\t0.005408654\n",
    "        SP.URB.GROW\tUrban population growth (annual %)\t0.005236951\n",
    "        SP.URB.TOTL.IN.ZS\tUrban population (% of total)\t0.004807692 "
   ]
  },
  {
   "cell_type": "code",
   "execution_count": 18,
   "metadata": {
    "collapsed": true
   },
   "outputs": [],
   "source": [
    "df = pd.read_csv('data_2000.csv', header=0,sep=',', low_memory=False)\n",
    "df.drop(['Unnamed: 0'], axis = 1, inplace = True)"
   ]
  },
  {
   "cell_type": "code",
   "execution_count": 19,
   "metadata": {
    "collapsed": false
   },
   "outputs": [
    {
     "data": {
      "text/html": [
       "<div>\n",
       "<table border=\"1\" class=\"dataframe\">\n",
       "  <thead>\n",
       "    <tr style=\"text-align: right;\">\n",
       "      <th></th>\n",
       "      <th>Sex</th>\n",
       "      <th>Age_bucket</th>\n",
       "      <th>Year</th>\n",
       "      <th>Country</th>\n",
       "      <th>Mortality_rate</th>\n",
       "      <th>SP.URB.TOTL.IN.ZS</th>\n",
       "      <th>SP.URB.GROW</th>\n",
       "      <th>SP.POP.GROW</th>\n",
       "      <th>SE.PRM.DURS</th>\n",
       "      <th>AG.SRF.TOTL.K2</th>\n",
       "      <th>...</th>\n",
       "      <th>EN.ATM.CO2E.LF.KT</th>\n",
       "      <th>EN.ATM.METH.AG.KT.CE</th>\n",
       "      <th>EN.ATM.METH.EG.KT.CE</th>\n",
       "      <th>EN.ATM.NOXE.AG.KT.CE</th>\n",
       "      <th>EN.ATM.NOXE.EG.KT.CE</th>\n",
       "      <th>NY.GDP.TOTL.RT.ZS</th>\n",
       "      <th>EN.ATM.CO2E.KT</th>\n",
       "      <th>EN.ATM.CO2E.PC</th>\n",
       "      <th>NY.GDP.MKTP.CD</th>\n",
       "      <th>NY.GDP.PCAP.CD</th>\n",
       "    </tr>\n",
       "  </thead>\n",
       "  <tbody>\n",
       "    <tr>\n",
       "      <th>0</th>\n",
       "      <td>1</td>\n",
       "      <td>1</td>\n",
       "      <td>2000</td>\n",
       "      <td>Antigua and Barbuda</td>\n",
       "      <td>0.0</td>\n",
       "      <td>32.127</td>\n",
       "      <td>0.966736</td>\n",
       "      <td>2.091312</td>\n",
       "      <td>7.0</td>\n",
       "      <td>440.0</td>\n",
       "      <td>...</td>\n",
       "      <td>344.698</td>\n",
       "      <td>23.119577</td>\n",
       "      <td>1.025246</td>\n",
       "      <td>11.202249</td>\n",
       "      <td>2.045597</td>\n",
       "      <td>0.0</td>\n",
       "      <td>344.698</td>\n",
       "      <td>4.439239</td>\n",
       "      <td>7.838379e+08</td>\n",
       "      <td>10094.759065</td>\n",
       "    </tr>\n",
       "    <tr>\n",
       "      <th>1</th>\n",
       "      <td>2</td>\n",
       "      <td>3</td>\n",
       "      <td>2000</td>\n",
       "      <td>Antigua and Barbuda</td>\n",
       "      <td>0.0</td>\n",
       "      <td>32.127</td>\n",
       "      <td>0.966736</td>\n",
       "      <td>2.091312</td>\n",
       "      <td>7.0</td>\n",
       "      <td>440.0</td>\n",
       "      <td>...</td>\n",
       "      <td>344.698</td>\n",
       "      <td>23.119577</td>\n",
       "      <td>1.025246</td>\n",
       "      <td>11.202249</td>\n",
       "      <td>2.045597</td>\n",
       "      <td>0.0</td>\n",
       "      <td>344.698</td>\n",
       "      <td>4.439239</td>\n",
       "      <td>7.838379e+08</td>\n",
       "      <td>10094.759065</td>\n",
       "    </tr>\n",
       "    <tr>\n",
       "      <th>2</th>\n",
       "      <td>2</td>\n",
       "      <td>4</td>\n",
       "      <td>2000</td>\n",
       "      <td>Antigua and Barbuda</td>\n",
       "      <td>0.0</td>\n",
       "      <td>32.127</td>\n",
       "      <td>0.966736</td>\n",
       "      <td>2.091312</td>\n",
       "      <td>7.0</td>\n",
       "      <td>440.0</td>\n",
       "      <td>...</td>\n",
       "      <td>344.698</td>\n",
       "      <td>23.119577</td>\n",
       "      <td>1.025246</td>\n",
       "      <td>11.202249</td>\n",
       "      <td>2.045597</td>\n",
       "      <td>0.0</td>\n",
       "      <td>344.698</td>\n",
       "      <td>4.439239</td>\n",
       "      <td>7.838379e+08</td>\n",
       "      <td>10094.759065</td>\n",
       "    </tr>\n",
       "    <tr>\n",
       "      <th>3</th>\n",
       "      <td>2</td>\n",
       "      <td>5</td>\n",
       "      <td>2000</td>\n",
       "      <td>Antigua and Barbuda</td>\n",
       "      <td>0.0</td>\n",
       "      <td>32.127</td>\n",
       "      <td>0.966736</td>\n",
       "      <td>2.091312</td>\n",
       "      <td>7.0</td>\n",
       "      <td>440.0</td>\n",
       "      <td>...</td>\n",
       "      <td>344.698</td>\n",
       "      <td>23.119577</td>\n",
       "      <td>1.025246</td>\n",
       "      <td>11.202249</td>\n",
       "      <td>2.045597</td>\n",
       "      <td>0.0</td>\n",
       "      <td>344.698</td>\n",
       "      <td>4.439239</td>\n",
       "      <td>7.838379e+08</td>\n",
       "      <td>10094.759065</td>\n",
       "    </tr>\n",
       "    <tr>\n",
       "      <th>4</th>\n",
       "      <td>2</td>\n",
       "      <td>6</td>\n",
       "      <td>2000</td>\n",
       "      <td>Antigua and Barbuda</td>\n",
       "      <td>0.0</td>\n",
       "      <td>32.127</td>\n",
       "      <td>0.966736</td>\n",
       "      <td>2.091312</td>\n",
       "      <td>7.0</td>\n",
       "      <td>440.0</td>\n",
       "      <td>...</td>\n",
       "      <td>344.698</td>\n",
       "      <td>23.119577</td>\n",
       "      <td>1.025246</td>\n",
       "      <td>11.202249</td>\n",
       "      <td>2.045597</td>\n",
       "      <td>0.0</td>\n",
       "      <td>344.698</td>\n",
       "      <td>4.439239</td>\n",
       "      <td>7.838379e+08</td>\n",
       "      <td>10094.759065</td>\n",
       "    </tr>\n",
       "  </tbody>\n",
       "</table>\n",
       "<p>5 rows × 49 columns</p>\n",
       "</div>"
      ],
      "text/plain": [
       "   Sex  Age_bucket  Year              Country  Mortality_rate  \\\n",
       "0    1           1  2000  Antigua and Barbuda             0.0   \n",
       "1    2           3  2000  Antigua and Barbuda             0.0   \n",
       "2    2           4  2000  Antigua and Barbuda             0.0   \n",
       "3    2           5  2000  Antigua and Barbuda             0.0   \n",
       "4    2           6  2000  Antigua and Barbuda             0.0   \n",
       "\n",
       "   SP.URB.TOTL.IN.ZS  SP.URB.GROW  SP.POP.GROW  SE.PRM.DURS  AG.SRF.TOTL.K2  \\\n",
       "0             32.127     0.966736     2.091312          7.0           440.0   \n",
       "1             32.127     0.966736     2.091312          7.0           440.0   \n",
       "2             32.127     0.966736     2.091312          7.0           440.0   \n",
       "3             32.127     0.966736     2.091312          7.0           440.0   \n",
       "4             32.127     0.966736     2.091312          7.0           440.0   \n",
       "\n",
       "        ...        EN.ATM.CO2E.LF.KT  EN.ATM.METH.AG.KT.CE  \\\n",
       "0       ...                  344.698             23.119577   \n",
       "1       ...                  344.698             23.119577   \n",
       "2       ...                  344.698             23.119577   \n",
       "3       ...                  344.698             23.119577   \n",
       "4       ...                  344.698             23.119577   \n",
       "\n",
       "   EN.ATM.METH.EG.KT.CE  EN.ATM.NOXE.AG.KT.CE  EN.ATM.NOXE.EG.KT.CE  \\\n",
       "0              1.025246             11.202249              2.045597   \n",
       "1              1.025246             11.202249              2.045597   \n",
       "2              1.025246             11.202249              2.045597   \n",
       "3              1.025246             11.202249              2.045597   \n",
       "4              1.025246             11.202249              2.045597   \n",
       "\n",
       "   NY.GDP.TOTL.RT.ZS  EN.ATM.CO2E.KT  EN.ATM.CO2E.PC  NY.GDP.MKTP.CD  \\\n",
       "0                0.0         344.698        4.439239    7.838379e+08   \n",
       "1                0.0         344.698        4.439239    7.838379e+08   \n",
       "2                0.0         344.698        4.439239    7.838379e+08   \n",
       "3                0.0         344.698        4.439239    7.838379e+08   \n",
       "4                0.0         344.698        4.439239    7.838379e+08   \n",
       "\n",
       "   NY.GDP.PCAP.CD  \n",
       "0    10094.759065  \n",
       "1    10094.759065  \n",
       "2    10094.759065  \n",
       "3    10094.759065  \n",
       "4    10094.759065  \n",
       "\n",
       "[5 rows x 49 columns]"
      ]
     },
     "execution_count": 19,
     "metadata": {},
     "output_type": "execute_result"
    }
   ],
   "source": [
    "df.head()"
   ]
  },
  {
   "cell_type": "code",
   "execution_count": 13,
   "metadata": {
    "collapsed": true
   },
   "outputs": [],
   "source": [
    "indicators = ['SP.URB.TOTL.IN.ZS',\t'SP.URB.GROW',\t'SP.POP.GROW',\t'SE.PRM.DURS',\t'AG.SRF.TOTL.K2',\t'SE.PRE.DURS',\t'EN.POP.DNST',\t'SE.SEC.DURS',\t'SP.DYN.CBRT.IN',\t'SP.DYN.CDRT.IN',\t'NY.ADJ.AEDU.GN.ZS',\t'SP.DYN.TFRT.IN',\t'SP.ADO.TFRT',\t'SP.DYN.LE00.FE.IN',\t'SP.DYN.LE00.IN',\t'SP.POP.DPND',\t'SP.DYN.AMRT.FE',\t'SP.DYN.AMRT.MA',\t'EN.ATM.NOXE.KT.CE',\t'EN.ATM.METH.KT.CE',\t'AG.LND.AGRI.K2',\t'EN.ATM.GHGO.KT.CE',\t'AG.LND.AGRI.ZS',\t'AG.PRD.FOOD.XD',\t'IT.CEL.SETS',\t'AG.PRD.LVSK.XD',\t'AG.PRD.CROP.XD',\t'IT.MLT.MAIN',\t'EN.ATM.GHGT.KT.CE',\t'EN.ATM.CO2E.GF.ZS',\t'EN.ATM.CO2E.LF.ZS',\t'EN.ATM.CO2E.SF.ZS',\t'NY.GDP.FRST.RT.ZS',\t'NY.GDP.MINR.RT.ZS',\t'EN.ATM.CO2E.LF.KT',\t'EN.ATM.METH.AG.KT.CE',\t'EN.ATM.METH.EG.KT.CE',\t'EN.ATM.NOXE.AG.KT.CE',\t'EN.ATM.NOXE.EG.KT.CE',\t'NY.GDP.TOTL.RT.ZS',\t'EN.ATM.CO2E.KT',\t'EN.ATM.CO2E.PC',\t'NY.GDP.MKTP.CD',\t'NY.GDP.PCAP.CD']          "
   ]
  },
  {
   "cell_type": "code",
   "execution_count": 22,
   "metadata": {
    "collapsed": true
   },
   "outputs": [],
   "source": [
    "#faute d'avoir la variable population pour pouvoir calculer le taux de mortalité moyen par pays, je fais la moyenne des moyennes\n",
    "y = df.groupby(['Country'])['Mortality_rate'].mean()"
   ]
  },
  {
   "cell_type": "code",
   "execution_count": 24,
   "metadata": {
    "collapsed": true
   },
   "outputs": [],
   "source": [
    "mortality_cat = pd.qcut(x = y, q = [0, 0.25, 0.5, 0.75, 1], labels = [1,2,3,4]) #get series of unique group labelling for each country\n",
    "d = mortality_cat.to_dict() #transform to dictionary\n",
    "df['Mortality_group'] = df['Country'].map(d) #use dictionary to map the original data with the grouping"
   ]
  },
  {
   "cell_type": "code",
   "execution_count": 25,
   "metadata": {
    "collapsed": false
   },
   "outputs": [
    {
     "name": "stdout",
     "output_type": "stream",
     "text": [
      "Sans normalisation de features\n",
      "Accuracy of Linear SVC classifier on training set: 0.27\n",
      "Accuracy of Linear SVC classifier on test set: 0.26\n"
     ]
    },
    {
     "name": "stderr",
     "output_type": "stream",
     "text": [
      "C:\\ProgramData\\Anaconda3\\lib\\site-packages\\sklearn\\svm\\base.py:220: ConvergenceWarning: Solver terminated early (max_iter=1000).  Consider pre-processing your data with StandardScaler or MinMaxScaler.\n",
      "  % self.max_iter, ConvergenceWarning)\n"
     ]
    }
   ],
   "source": [
    "###### svm pour problème de classification\n",
    "x = df[indicators + ['Sex', 'Age_bucket', 'Year']] #removed Country bc it was a string\n",
    "y_cat = df['Mortality_group']\n",
    "\n",
    "X_train, X_test, y_train, y_test = train_test_split(x, y_cat, random_state = 0)\n",
    "this_C = 1.0\n",
    "clf = SVC(kernel = 'linear', C=this_C, max_iter = 1000).fit(X_train, y_train)\n",
    "print('Sans normalisation des features')\n",
    "print('Accuracy of Linear SVC classifier on training set: {:.2f}'\n",
    "     .format(clf.score(X_train, y_train)))\n",
    "print('Accuracy of Linear SVC classifier on test set: {:.2f}'\n",
    "     .format(clf.score(X_test, y_test)))"
   ]
  },
  {
   "cell_type": "markdown",
   "metadata": {},
   "source": [
    "!!! Sans l'option max_iter, l'algorithme ne s'arrete pas. \n",
    "En limitant le nombre d'itérations, j'obtiens un avertissement de non convergence. \n",
    "Solver terminated early (max_iter=1000).  Consider pre-processing your data with StandardScaler or MinMaxScaler.\n",
    "  % self.max_iter, ConvergenceWarning)"
   ]
  },
  {
   "cell_type": "code",
   "execution_count": 27,
   "metadata": {
    "collapsed": false
   },
   "outputs": [
    {
     "name": "stderr",
     "output_type": "stream",
     "text": [
      "C:\\ProgramData\\Anaconda3\\lib\\site-packages\\sklearn\\svm\\base.py:220: ConvergenceWarning: Solver terminated early (max_iter=10000).  Consider pre-processing your data with StandardScaler or MinMaxScaler.\n",
      "  % self.max_iter, ConvergenceWarning)\n"
     ]
    },
    {
     "name": "stdout",
     "output_type": "stream",
     "text": [
      "Avec normalisation des features\n",
      "Accuracy of Linear SVC classifier on training set: 0.27\n",
      "Accuracy of Linear SVC classifier on test set: 0.26\n"
     ]
    }
   ],
   "source": [
    "#avec la normalisation des features\n",
    "X_train_scaled = scaler.fit_transform(X_train)\n",
    "X_test_scaled = scaler.transform(X_test)\n",
    "clf = SVC(kernel = 'linear', C=this_C, max_iter = 10000).fit(X_train, y_train)\n",
    "print('Avec normalisation des features')\n",
    "print('Accuracy of Linear SVC classifier on training set: {:.2f}'\n",
    "     .format(clf.score(X_train, y_train)))\n",
    "print('Accuracy of Linear SVC classifier on test set: {:.2f}'\n",
    "     .format(clf.score(X_test, y_test)))"
   ]
  },
  {
   "cell_type": "code",
   "execution_count": 28,
   "metadata": {
    "collapsed": false
   },
   "outputs": [
    {
     "name": "stderr",
     "output_type": "stream",
     "text": [
      "C:\\ProgramData\\Anaconda3\\lib\\site-packages\\sklearn\\svm\\base.py:220: ConvergenceWarning: Solver terminated early (max_iter=1000).  Consider pre-processing your data with StandardScaler or MinMaxScaler.\n",
      "  % self.max_iter, ConvergenceWarning)\n",
      "C:\\ProgramData\\Anaconda3\\lib\\site-packages\\sklearn\\svm\\base.py:220: ConvergenceWarning: Solver terminated early (max_iter=1000).  Consider pre-processing your data with StandardScaler or MinMaxScaler.\n",
      "  % self.max_iter, ConvergenceWarning)\n",
      "C:\\ProgramData\\Anaconda3\\lib\\site-packages\\sklearn\\svm\\base.py:220: ConvergenceWarning: Solver terminated early (max_iter=1000).  Consider pre-processing your data with StandardScaler or MinMaxScaler.\n",
      "  % self.max_iter, ConvergenceWarning)\n",
      "C:\\ProgramData\\Anaconda3\\lib\\site-packages\\sklearn\\svm\\base.py:220: ConvergenceWarning: Solver terminated early (max_iter=1000).  Consider pre-processing your data with StandardScaler or MinMaxScaler.\n",
      "  % self.max_iter, ConvergenceWarning)\n",
      "C:\\ProgramData\\Anaconda3\\lib\\site-packages\\sklearn\\svm\\base.py:220: ConvergenceWarning: Solver terminated early (max_iter=1000).  Consider pre-processing your data with StandardScaler or MinMaxScaler.\n",
      "  % self.max_iter, ConvergenceWarning)\n",
      "C:\\ProgramData\\Anaconda3\\lib\\site-packages\\sklearn\\svm\\base.py:220: ConvergenceWarning: Solver terminated early (max_iter=1000).  Consider pre-processing your data with StandardScaler or MinMaxScaler.\n",
      "  % self.max_iter, ConvergenceWarning)\n",
      "C:\\ProgramData\\Anaconda3\\lib\\site-packages\\sklearn\\svm\\base.py:220: ConvergenceWarning: Solver terminated early (max_iter=1000).  Consider pre-processing your data with StandardScaler or MinMaxScaler.\n",
      "  % self.max_iter, ConvergenceWarning)\n",
      "C:\\ProgramData\\Anaconda3\\lib\\site-packages\\sklearn\\svm\\base.py:220: ConvergenceWarning: Solver terminated early (max_iter=1000).  Consider pre-processing your data with StandardScaler or MinMaxScaler.\n",
      "  % self.max_iter, ConvergenceWarning)\n",
      "C:\\ProgramData\\Anaconda3\\lib\\site-packages\\sklearn\\svm\\base.py:220: ConvergenceWarning: Solver terminated early (max_iter=1000).  Consider pre-processing your data with StandardScaler or MinMaxScaler.\n",
      "  % self.max_iter, ConvergenceWarning)\n",
      "C:\\ProgramData\\Anaconda3\\lib\\site-packages\\sklearn\\svm\\base.py:220: ConvergenceWarning: Solver terminated early (max_iter=1000).  Consider pre-processing your data with StandardScaler or MinMaxScaler.\n",
      "  % self.max_iter, ConvergenceWarning)\n",
      "C:\\ProgramData\\Anaconda3\\lib\\site-packages\\sklearn\\svm\\base.py:220: ConvergenceWarning: Solver terminated early (max_iter=1000).  Consider pre-processing your data with StandardScaler or MinMaxScaler.\n",
      "  % self.max_iter, ConvergenceWarning)\n",
      "C:\\ProgramData\\Anaconda3\\lib\\site-packages\\sklearn\\svm\\base.py:220: ConvergenceWarning: Solver terminated early (max_iter=1000).  Consider pre-processing your data with StandardScaler or MinMaxScaler.\n",
      "  % self.max_iter, ConvergenceWarning)\n"
     ]
    },
    {
     "data": {
      "image/png": "[encoded data removed]",
      "text/plain": [
       "<matplotlib.figure.Figure at 0xc084a20>"
      ]
     },
     "metadata": {},
     "output_type": "display_data"
    }
   ],
   "source": [
    "#Validation curve\n",
    "param_range = np.logspace(-3, 3, 4)\n",
    "train_scores, test_scores = validation_curve(SVC(max_iter=1000), x, y_cat,\n",
    "                                            param_name='gamma',\n",
    "                                            param_range=param_range, cv=3)\n",
    "plt.figure()\n",
    "\n",
    "train_scores_mean = np.mean(train_scores, axis=1)\n",
    "train_scores_std = np.std(train_scores, axis=1)\n",
    "test_scores_mean = np.mean(test_scores, axis=1)\n",
    "test_scores_std = np.std(test_scores, axis=1)\n",
    "\n",
    "plt.title('Validation Curve with SVM')\n",
    "plt.xlabel('$\\gamma$ (gamma)')\n",
    "plt.ylabel('Score')\n",
    "plt.ylim(0.0, 1.1)\n",
    "lw = 2\n",
    "\n",
    "plt.semilogx(param_range, train_scores_mean, label='Training score',\n",
    "            color='darkorange', lw=lw)\n",
    "\n",
    "plt.fill_between(param_range, train_scores_mean - train_scores_std,\n",
    "                train_scores_mean + train_scores_std, alpha=0.2,\n",
    "                color='darkorange', lw=lw)\n",
    "\n",
    "plt.semilogx(param_range, test_scores_mean, label='Cross-validation score',\n",
    "            color='navy', lw=lw)\n",
    "\n",
    "plt.fill_between(param_range, test_scores_mean - test_scores_std,\n",
    "                test_scores_mean + test_scores_std, alpha=0.2,\n",
    "                color='navy', lw=lw)\n",
    "\n",
    "plt.legend(loc='best')\n",
    "plt.show()"
   ]
  }
 ],
 "metadata": {
  "kernelspec": {
   "display_name": "Python 3",
   "language": "python",
   "name": "python3"
  },
  "language_info": {
   "codemirror_mode": {
    "name": "ipython",
    "version": 3
   },
   "file_extension": ".py",
   "mimetype": "text/x-python",
   "name": "python",
   "nbconvert_exporter": "python",
   "pygments_lexer": "ipython3",
   "version": "3.6.0"
  }
 },
 "nbformat": 4,
 "nbformat_minor": 2
}
