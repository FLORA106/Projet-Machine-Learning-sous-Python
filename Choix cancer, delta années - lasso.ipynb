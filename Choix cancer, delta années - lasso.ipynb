{
 "cells": [
  {
   "cell_type": "code",
   "execution_count": 3,
   "metadata": {
    "collapsed": true
   },
   "outputs": [],
   "source": [
    "import pandas as pd\n",
    "import numpy as np\n",
    "from sklearn.linear_model import Lasso\n",
    "from sklearn.preprocessing import MinMaxScaler; scaler = MinMaxScaler()\n",
    "from sklearn.metrics import mean_squared_error\n",
    "from math import sqrt"
   ]
  },
  {
   "cell_type": "markdown",
   "metadata": {},
   "source": [
    "On part d'un dataset contenant le taux de mortalité calculé par tranche d'âge et par sexe, pour chaque pays et pour chaque année. \n",
    "Les valeurs manquantes des indicateurs ont été remplacées par la dernière année disponible par pays.\n",
    "data.csv est issu du programme xxx et il comprend :\n",
    "    - une séléction d'années : 22 années (1995 - 2015)\n",
    "    - tous les pays ayant une correpondance entre le fichier mortalité et le fichier worldbank : 94 pays\n",
    "    - tous les types de cancer : 74 codes distincts\n",
    "    - une séléction d'indicateurs"
   ]
  },
  {
   "cell_type": "markdown",
   "metadata": {},
   "source": [
    "Liste des indicateurs, choisis pour avoir moins de 25% des valeurs manquantes :\n",
    "        AG.LND.AGRI.K2\tAgricultural land (sq. km)\t0.096926511\n",
    "        AG.LND.AGRI.ZS\tAgricultural land (% of land area)\t0.107572115\n",
    "        AG.PRD.CROP.XD\tCrop production index (2004-2006 = 100)\t0.126373626\n",
    "        AG.PRD.FOOD.XD\tFood production index (2004-2006 = 100)\t0.122510302\n",
    "        AG.PRD.LVSK.XD\tLivestock production index (2004-2006 = 100)\t0.125429258\n",
    "        AG.SRF.TOTL.K2\tSurface area (sq. km)\t0.01356456\n",
    "        EN.ATM.CO2E.GF.ZS\tCO2 emissions from gaseous fuel consumption (% of total)\t0.148866758\n",
    "        EN.ATM.CO2E.KT\tCO2 emissions (kt)\t0.158739698\n",
    "        EN.ATM.CO2E.LF.KT\tCO2 emissions from liquid fuel consumption (kt)\t0.154447115\n",
    "        EN.ATM.CO2E.LF.ZS\tCO2 emissions from liquid fuel consumption (% of total)\t0.148866758\n",
    "        EN.ATM.CO2E.PC\tCO2 emissions (metric tons per capita)\t0.159168956\n",
    "        EN.ATM.CO2E.SF.ZS\tCO2 emissions from solid fuel consumption (% of total)\t0.148866758\n",
    "        EN.ATM.GHGO.KT.CE\tOther greenhouse gas emissions, HFC, PFC and SF6 (thousand metric tons of CO2 equivalent)\t0.107486264\n",
    "        EN.ATM.GHGT.KT.CE\tTotal greenhouse gas emissions (kt of CO2 equivalent)\t0.145861951\n",
    "        EN.ATM.METH.AG.KT.CE\tAgricultural methane emissions (thousand metric tons of CO2 equivalent)\t0.154447115\n",
    "        EN.ATM.METH.EG.KT.CE\tMethane emissions in energy sector (thousand metric tons of CO2 equivalent)\t0.154447115\n",
    "        EN.ATM.METH.KT.CE\tMethane emissions (kt of CO2 equivalent)\t0.095896291\n",
    "        EN.ATM.NOXE.AG.KT.CE\tAgricultural nitrous oxide emissions (thousand metric tons of CO2 equivalent)\t0.154447115\n",
    "        EN.ATM.NOXE.EG.KT.CE\tNitrous oxide emissions in energy sector (thousand metric tons of CO2 equivalent)\t0.154447115\n",
    "        EN.ATM.NOXE.KT.CE\tNitrous oxide emissions (thousand metric tons of CO2 equivalent)\t0.09220467\n",
    "        EN.POP.DNST\tPopulation density (people per sq. km of land area)\t0.019059066\n",
    "        IT.CEL.SETS\tMobile cellular subscriptions\t0.123025412\n",
    "        IT.MLT.MAIN\tFixed telephone subscriptions\t0.144316621\n",
    "        NY.ADJ.AEDU.GN.ZS\tAdjusted savings: education expenditure (% of GNI)\t0.054601648\n",
    "        NY.GDP.FRST.RT.ZS\tForest rents (% of GDP)\t0.152730082\n",
    "        NY.GDP.MINR.RT.ZS\tMineral rents (% of GDP)\t0.152730082\n",
    "        NY.GDP.MKTP.CD\tGDP (current US$)\t0.165350275\n",
    "        NY.GDP.PCAP.CD\tGDP per capita (current US$)\t0.16560783\n",
    "        NY.GDP.TOTL.RT.ZS\tTotal natural resources rents (% of GDP)\t0.154447115\n",
    "        SE.PRE.DURS\tPreprimary education, duration (years)\t0.015024038\n",
    "        SE.PRM.DURS\tPrimary education, duration (years)\t0.010903159\n",
    "        SE.SEC.DURS\tSecondary education, duration (years)\t0.025068681\n",
    "        SP.ADO.TFRT\tAdolescent fertility rate (births per 1,000 women ages 15-19)\t0.066449176\n",
    "        SP.DYN.AMRT.FE\tMortality rate, adult, female (per 1,000 female adults)\t0.077781593\n",
    "        SP.DYN.AMRT.MA\tMortality rate, adult, male (per 1,000 male adults)\t0.077781593\n",
    "        SP.DYN.CBRT.IN\tBirth rate, crude (per 1,000 people)\t0.051682692\n",
    "        SP.DYN.CDRT.IN\tDeath rate, crude (per 1,000 people)\t0.053571429\n",
    "        SP.DYN.LE00.FE.IN\tLife expectancy at birth, female (years)\t0.066706731\n",
    "        SP.DYN.LE00.IN\tLife expectancy at birth, total (years)\t0.066706731\n",
    "        SP.DYN.TFRT.IN\tFertility rate, total (births per woman)\t0.066277473\n",
    "        SP.POP.DPND\tAge dependency ratio (% of working-age population)\t0.070484203\n",
    "        SP.POP.GROW\tPopulation growth (annual %)\t0.005408654\n",
    "        SP.URB.GROW\tUrban population growth (annual %)\t0.005236951\n",
    "        SP.URB.TOTL.IN.ZS\tUrban population (% of total)\t0.004807692    "
   ]
  },
  {
   "cell_type": "code",
   "execution_count": 16,
   "metadata": {
    "collapsed": false
   },
   "outputs": [],
   "source": [
    "df3 = pd.read_csv('data.csv', header=0,sep=',', low_memory=False)"
   ]
  },
  {
   "cell_type": "code",
   "execution_count": 17,
   "metadata": {
    "collapsed": true
   },
   "outputs": [],
   "source": [
    "indicators_old = ['AG.LND.TOTL.K2',\t'AG.LND.TOTL.UR.K2',\t'AG.LND.AGRI.ZS',\t'EG.ELC.ACCS.ZS',\t'EN.ATM.CO2E.KT',\t'NE.CON.TETC.CD',\t'NE.EXP.GNFS.CD',\t'NE.IMP.GNFS.CD',\t'NV.AGR.TOTL.CD',\t'NV.IND.MANF.CD',\t'NV.SRV.TETC.CD',\t'NY.GNS.ICTR.ZS',\t'DT.ODA.OATL.CD',\t'NE.CON.PETC.CD',\t'NY.GDP.MKTP.CD',\t'SP.POP.GROW',\t'SP.POP.DPND',\t'SP.POP.DPND.OL',\t'SP.DYN.TFRT.IN',\t'SP.DYN.TO65.FE.ZS',\t'SP.DYN.TO65.MA.ZS',\t'SP.DYN.IMRT.IN',\t'SP.DYN.LE00.IN',\t'SP.DYN.CONU.ZS',\t'SN.ITK.DEFC.ZS',\t'SH.XPD.TOTL.ZS',\t'SH.TBS.INCD',\t'SH.STA.MMRT.NE',\t'SH.STA.BRTW.ZS',\t'SH.PRV.SMOK.FE',\t'SH.PRV.SMOK.MA',\t'SH.MED.BEDS.ZS',\t'SH.MED.NUMW.P3',\t'SH.MED.PHYS.ZS',\t'SH.HIV.1524.FE.ZS',\t'SH.HIV.1524.MA.ZS',\t'SM.POP.NETM',\t'SL.UEM.TOTL.NE.ZS',\t'SL.UEM.TOTL.ZS']\n",
    "indicators = ['SP.URB.TOTL.IN.ZS',\t'SP.URB.GROW',\t'SP.POP.GROW',\t'SE.PRM.DURS',\t'AG.SRF.TOTL.K2',\t'SE.PRE.DURS',\t'EN.POP.DNST',\t'SE.SEC.DURS',\t'SP.DYN.CBRT.IN',\t'SP.DYN.CDRT.IN',\t'NY.ADJ.AEDU.GN.ZS',\t'SP.DYN.TFRT.IN',\t'SP.ADO.TFRT',\t'SP.DYN.LE00.FE.IN',\t'SP.DYN.LE00.IN',\t'SP.POP.DPND',\t'SP.DYN.AMRT.FE',\t'SP.DYN.AMRT.MA',\t'EN.ATM.NOXE.KT.CE',\t'EN.ATM.METH.KT.CE',\t'AG.LND.AGRI.K2',\t'EN.ATM.GHGO.KT.CE',\t'AG.LND.AGRI.ZS',\t'AG.PRD.FOOD.XD',\t'IT.CEL.SETS',\t'AG.PRD.LVSK.XD',\t'AG.PRD.CROP.XD',\t'IT.MLT.MAIN',\t'EN.ATM.GHGT.KT.CE',\t'EN.ATM.CO2E.GF.ZS',\t'EN.ATM.CO2E.LF.ZS',\t'EN.ATM.CO2E.SF.ZS',\t'NY.GDP.FRST.RT.ZS',\t'NY.GDP.MINR.RT.ZS',\t'EN.ATM.CO2E.LF.KT',\t'EN.ATM.METH.AG.KT.CE',\t'EN.ATM.METH.EG.KT.CE',\t'EN.ATM.NOXE.AG.KT.CE',\t'EN.ATM.NOXE.EG.KT.CE',\t'NY.GDP.TOTL.RT.ZS',\t'EN.ATM.CO2E.KT',\t'EN.ATM.CO2E.PC',\t'NY.GDP.MKTP.CD',\t'NY.GDP.PCAP.CD']          "
   ]
  },
  {
   "cell_type": "code",
   "execution_count": 5,
   "metadata": {
    "collapsed": false
   },
   "outputs": [
    {
     "data": {
      "text/plain": [
       "Index(['Cancer_code', 'Sex', 'Age_bucket', 'Location', 'Year', 'Nb_deaths',\n",
       "       'Country', 'Age_group', 'Population', 'Mortality_rate', 'area', 'year',\n",
       "       'AG.LND.TOTL.K2', 'AG.LND.TOTL.UR.K2', 'AG.LND.AGRI.ZS',\n",
       "       'EG.ELC.ACCS.ZS', 'EN.ATM.CO2E.KT', 'NE.CON.TETC.CD', 'NE.EXP.GNFS.CD',\n",
       "       'NE.IMP.GNFS.CD', 'NV.AGR.TOTL.CD', 'NV.IND.MANF.CD', 'NV.SRV.TETC.CD',\n",
       "       'NY.GNS.ICTR.ZS', 'DT.ODA.OATL.CD', 'NE.CON.PETC.CD', 'NY.GDP.MKTP.CD',\n",
       "       'SP.POP.GROW', 'SP.POP.DPND', 'SP.POP.DPND.OL', 'SP.DYN.TFRT.IN',\n",
       "       'SP.DYN.TO65.FE.ZS', 'SP.DYN.TO65.MA.ZS', 'SP.DYN.IMRT.IN',\n",
       "       'SP.DYN.LE00.IN', 'SP.DYN.CONU.ZS', 'SN.ITK.DEFC.ZS', 'SH.XPD.TOTL.ZS',\n",
       "       'SH.TBS.INCD', 'SH.STA.MMRT.NE', 'SH.STA.BRTW.ZS', 'SH.PRV.SMOK.FE',\n",
       "       'SH.PRV.SMOK.MA', 'SH.MED.BEDS.ZS', 'SH.MED.NUMW.P3', 'SH.MED.PHYS.ZS',\n",
       "       'SH.HIV.1524.FE.ZS', 'SH.HIV.1524.MA.ZS', 'SM.POP.NETM',\n",
       "       'SL.UEM.TOTL.NE.ZS', 'SL.UEM.TOTL.ZS'],\n",
       "      dtype='object')"
      ]
     },
     "execution_count": 5,
     "metadata": {},
     "output_type": "execute_result"
    }
   ],
   "source": [
    "df3.columns\n",
    "#dans le fichier data.csv utilisé ici, ce ne sont pas les indicateurs choisis en tenant compte des valeurs manquantes!!! \n",
    "#=> à refaire le fichier et à refaire tourner"
   ]
  },
  {
   "cell_type": "code",
   "execution_count": 10,
   "metadata": {
    "collapsed": false
   },
   "outputs": [
    {
     "data": {
      "text/plain": [
       "22"
      ]
     },
     "execution_count": 10,
     "metadata": {},
     "output_type": "execute_result"
    }
   ],
   "source": [
    "#vérifier années présentes dans le dataset\n",
    "sorted(df3['Year'].unique())\n",
    "len(df3['Year'].unique())"
   ]
  },
  {
   "cell_type": "code",
   "execution_count": 9,
   "metadata": {
    "collapsed": false
   },
   "outputs": [
    {
     "data": {
      "text/plain": [
       "74"
      ]
     },
     "execution_count": 9,
     "metadata": {},
     "output_type": "execute_result"
    }
   ],
   "source": [
    "#vérifier types de cancers présents dans le dataset\n",
    "sorted(df3['Cancer_code'].unique())\n",
    "len(df3['Cancer_code'].unique())"
   ]
  },
  {
   "cell_type": "code",
   "execution_count": 12,
   "metadata": {
    "collapsed": false
   },
   "outputs": [
    {
     "data": {
      "text/plain": [
       "94"
      ]
     },
     "execution_count": 12,
     "metadata": {},
     "output_type": "execute_result"
    }
   ],
   "source": [
    "#vérifier les pays présents dans le dataset\n",
    "sorted(df3['Country'].unique())\n",
    "len(df3['Country'].unique())"
   ]
  },
  {
   "cell_type": "code",
   "execution_count": 15,
   "metadata": {
    "collapsed": false
   },
   "outputs": [
    {
     "data": {
      "text/plain": [
       "51"
      ]
     },
     "execution_count": 15,
     "metadata": {},
     "output_type": "execute_result"
    }
   ],
   "source": [
    "#vérifier les indicateurs world bank présents dans le dataset\n",
    "len(indicators) #39\n",
    "len(df3.columns) #51"
   ]
  },
  {
   "cell_type": "markdown",
   "metadata": {},
   "source": [
    "## Choix de type de cancer mieux expliqué à l'aide d'une régression lasso linéaire"
   ]
  },
  {
   "cell_type": "code",
   "execution_count": 78,
   "metadata": {
    "collapsed": true
   },
   "outputs": [],
   "source": [
    "nb_cancers = len(df3['Cancer_code'].unique()) #nombre de types de cancers dans le dataset\n",
    "cancer_types = list(df3['Cancer_code'].unique()) #liste de types de cancers dans le dataset\n",
    "#initialize lists\n",
    "lasso_cancer_codes = np.empty(nb_cancers, dtype=object)\n",
    "lasso_r2 = np.empty(nb_cancers, dtype='float64')\n",
    "lasso_nb_features = np.empty(nb_cancers, dtype='int')\n",
    "i=0 "
   ]
  },
  {
   "cell_type": "code",
   "execution_count": 79,
   "metadata": {
    "collapsed": false
   },
   "outputs": [],
   "source": [
    "for c in cancer_types:\n",
    "\n",
    "    X_scaled = scaler.fit_transform( df3[df3['Cancer_code'] == c][indicators_old].dropna(axis=1, how='all').fillna(0) )\n",
    "    y = df3[df3['Cancer_code'] == c]['Mortality_rate']\n",
    " \n",
    "    linlasso = Lasso(alpha=0.005, max_iter = 10000).fit(X_scaled, y)  \n",
    "    \n",
    "    lasso_cancer_codes[i] = c\n",
    "    lasso_nb_features[i] = np.sum(linlasso.coef_ != 0)\n",
    "    lasso_r2[i] = linlasso.score(X_scaled, y)\n",
    "    i = i+1\n",
    "\n",
    "df_lasso1 = pd.DataFrame({'Cancer_code':lasso_cancer_codes, 'R2':lasso_r2, 'Nb_features':lasso_nb_features}) "
   ]
  },
  {
   "cell_type": "code",
   "execution_count": 80,
   "metadata": {
    "collapsed": false
   },
   "outputs": [
    {
     "data": {
      "text/html": [
       "<div>\n",
       "<table border=\"1\" class=\"dataframe\">\n",
       "  <thead>\n",
       "    <tr style=\"text-align: right;\">\n",
       "      <th></th>\n",
       "      <th>Cancer_code</th>\n",
       "      <th>Nb_features</th>\n",
       "      <th>R2</th>\n",
       "    </tr>\n",
       "  </thead>\n",
       "  <tbody>\n",
       "    <tr>\n",
       "      <th>24</th>\n",
       "      <td>C17</td>\n",
       "      <td>33</td>\n",
       "      <td>0.068570</td>\n",
       "    </tr>\n",
       "    <tr>\n",
       "      <th>5</th>\n",
       "      <td>C00-C14</td>\n",
       "      <td>37</td>\n",
       "      <td>0.068442</td>\n",
       "    </tr>\n",
       "    <tr>\n",
       "      <th>18</th>\n",
       "      <td>C53</td>\n",
       "      <td>31</td>\n",
       "      <td>0.060277</td>\n",
       "    </tr>\n",
       "    <tr>\n",
       "      <th>26</th>\n",
       "      <td>C19-C21</td>\n",
       "      <td>33</td>\n",
       "      <td>0.046503</td>\n",
       "    </tr>\n",
       "    <tr>\n",
       "      <th>12</th>\n",
       "      <td>C43</td>\n",
       "      <td>20</td>\n",
       "      <td>0.042180</td>\n",
       "    </tr>\n",
       "    <tr>\n",
       "      <th>14</th>\n",
       "      <td>C71</td>\n",
       "      <td>27</td>\n",
       "      <td>0.041360</td>\n",
       "    </tr>\n",
       "    <tr>\n",
       "      <th>1</th>\n",
       "      <td>C56</td>\n",
       "      <td>32</td>\n",
       "      <td>0.039385</td>\n",
       "    </tr>\n",
       "    <tr>\n",
       "      <th>32</th>\n",
       "      <td>C68</td>\n",
       "      <td>11</td>\n",
       "      <td>0.034786</td>\n",
       "    </tr>\n",
       "    <tr>\n",
       "      <th>2</th>\n",
       "      <td>C64</td>\n",
       "      <td>27</td>\n",
       "      <td>0.034476</td>\n",
       "    </tr>\n",
       "    <tr>\n",
       "      <th>40</th>\n",
       "      <td>C33,C34</td>\n",
       "      <td>35</td>\n",
       "      <td>0.034372</td>\n",
       "    </tr>\n",
       "    <tr>\n",
       "      <th>65</th>\n",
       "      <td>D00</td>\n",
       "      <td>27</td>\n",
       "      <td>0.032666</td>\n",
       "    </tr>\n",
       "    <tr>\n",
       "      <th>22</th>\n",
       "      <td>C55</td>\n",
       "      <td>32</td>\n",
       "      <td>0.032358</td>\n",
       "    </tr>\n",
       "    <tr>\n",
       "      <th>10</th>\n",
       "      <td>C45</td>\n",
       "      <td>21</td>\n",
       "      <td>0.031941</td>\n",
       "    </tr>\n",
       "    <tr>\n",
       "      <th>8</th>\n",
       "      <td>C78</td>\n",
       "      <td>25</td>\n",
       "      <td>0.031088</td>\n",
       "    </tr>\n",
       "    <tr>\n",
       "      <th>46</th>\n",
       "      <td>C82</td>\n",
       "      <td>22</td>\n",
       "      <td>0.030634</td>\n",
       "    </tr>\n",
       "    <tr>\n",
       "      <th>61</th>\n",
       "      <td>D09</td>\n",
       "      <td>7</td>\n",
       "      <td>0.030008</td>\n",
       "    </tr>\n",
       "    <tr>\n",
       "      <th>16</th>\n",
       "      <td>C15</td>\n",
       "      <td>30</td>\n",
       "      <td>0.029643</td>\n",
       "    </tr>\n",
       "    <tr>\n",
       "      <th>58</th>\n",
       "      <td>C70</td>\n",
       "      <td>21</td>\n",
       "      <td>0.028950</td>\n",
       "    </tr>\n",
       "    <tr>\n",
       "      <th>69</th>\n",
       "      <td>D06</td>\n",
       "      <td>6</td>\n",
       "      <td>0.027907</td>\n",
       "    </tr>\n",
       "    <tr>\n",
       "      <th>42</th>\n",
       "      <td>C25</td>\n",
       "      <td>29</td>\n",
       "      <td>0.027085</td>\n",
       "    </tr>\n",
       "    <tr>\n",
       "      <th>28</th>\n",
       "      <td>C83</td>\n",
       "      <td>21</td>\n",
       "      <td>0.026749</td>\n",
       "    </tr>\n",
       "    <tr>\n",
       "      <th>13</th>\n",
       "      <td>C18</td>\n",
       "      <td>32</td>\n",
       "      <td>0.024540</td>\n",
       "    </tr>\n",
       "    <tr>\n",
       "      <th>6</th>\n",
       "      <td>C24</td>\n",
       "      <td>21</td>\n",
       "      <td>0.023931</td>\n",
       "    </tr>\n",
       "    <tr>\n",
       "      <th>47</th>\n",
       "      <td>C90</td>\n",
       "      <td>24</td>\n",
       "      <td>0.022840</td>\n",
       "    </tr>\n",
       "    <tr>\n",
       "      <th>44</th>\n",
       "      <td>C54</td>\n",
       "      <td>28</td>\n",
       "      <td>0.022838</td>\n",
       "    </tr>\n",
       "    <tr>\n",
       "      <th>41</th>\n",
       "      <td>C85</td>\n",
       "      <td>24</td>\n",
       "      <td>0.021835</td>\n",
       "    </tr>\n",
       "    <tr>\n",
       "      <th>43</th>\n",
       "      <td>C16</td>\n",
       "      <td>33</td>\n",
       "      <td>0.021323</td>\n",
       "    </tr>\n",
       "    <tr>\n",
       "      <th>59</th>\n",
       "      <td>C65</td>\n",
       "      <td>11</td>\n",
       "      <td>0.020115</td>\n",
       "    </tr>\n",
       "    <tr>\n",
       "      <th>0</th>\n",
       "      <td>C80</td>\n",
       "      <td>34</td>\n",
       "      <td>0.020004</td>\n",
       "    </tr>\n",
       "    <tr>\n",
       "      <th>54</th>\n",
       "      <td>C32</td>\n",
       "      <td>24</td>\n",
       "      <td>0.019790</td>\n",
       "    </tr>\n",
       "    <tr>\n",
       "      <th>...</th>\n",
       "      <td>...</td>\n",
       "      <td>...</td>\n",
       "      <td>...</td>\n",
       "    </tr>\n",
       "    <tr>\n",
       "      <th>23</th>\n",
       "      <td>C76</td>\n",
       "      <td>25</td>\n",
       "      <td>0.013046</td>\n",
       "    </tr>\n",
       "    <tr>\n",
       "      <th>19</th>\n",
       "      <td>C40,C41</td>\n",
       "      <td>14</td>\n",
       "      <td>0.012700</td>\n",
       "    </tr>\n",
       "    <tr>\n",
       "      <th>52</th>\n",
       "      <td>C88</td>\n",
       "      <td>12</td>\n",
       "      <td>0.012665</td>\n",
       "    </tr>\n",
       "    <tr>\n",
       "      <th>67</th>\n",
       "      <td>D07</td>\n",
       "      <td>14</td>\n",
       "      <td>0.012643</td>\n",
       "    </tr>\n",
       "    <tr>\n",
       "      <th>56</th>\n",
       "      <td>C61</td>\n",
       "      <td>37</td>\n",
       "      <td>0.012401</td>\n",
       "    </tr>\n",
       "    <tr>\n",
       "      <th>55</th>\n",
       "      <td>C63</td>\n",
       "      <td>13</td>\n",
       "      <td>0.011663</td>\n",
       "    </tr>\n",
       "    <tr>\n",
       "      <th>49</th>\n",
       "      <td>C46</td>\n",
       "      <td>9</td>\n",
       "      <td>0.011603</td>\n",
       "    </tr>\n",
       "    <tr>\n",
       "      <th>29</th>\n",
       "      <td>C48</td>\n",
       "      <td>13</td>\n",
       "      <td>0.011581</td>\n",
       "    </tr>\n",
       "    <tr>\n",
       "      <th>20</th>\n",
       "      <td>C51</td>\n",
       "      <td>11</td>\n",
       "      <td>0.011499</td>\n",
       "    </tr>\n",
       "    <tr>\n",
       "      <th>25</th>\n",
       "      <td>C81</td>\n",
       "      <td>15</td>\n",
       "      <td>0.011466</td>\n",
       "    </tr>\n",
       "    <tr>\n",
       "      <th>66</th>\n",
       "      <td>D03</td>\n",
       "      <td>7</td>\n",
       "      <td>0.010718</td>\n",
       "    </tr>\n",
       "    <tr>\n",
       "      <th>45</th>\n",
       "      <td>C60</td>\n",
       "      <td>15</td>\n",
       "      <td>0.010175</td>\n",
       "    </tr>\n",
       "    <tr>\n",
       "      <th>34</th>\n",
       "      <td>C73</td>\n",
       "      <td>14</td>\n",
       "      <td>0.010159</td>\n",
       "    </tr>\n",
       "    <tr>\n",
       "      <th>48</th>\n",
       "      <td>C66</td>\n",
       "      <td>6</td>\n",
       "      <td>0.009228</td>\n",
       "    </tr>\n",
       "    <tr>\n",
       "      <th>73</th>\n",
       "      <td>C86</td>\n",
       "      <td>3</td>\n",
       "      <td>0.009141</td>\n",
       "    </tr>\n",
       "    <tr>\n",
       "      <th>71</th>\n",
       "      <td>D02</td>\n",
       "      <td>10</td>\n",
       "      <td>0.009016</td>\n",
       "    </tr>\n",
       "    <tr>\n",
       "      <th>3</th>\n",
       "      <td>C44</td>\n",
       "      <td>18</td>\n",
       "      <td>0.008994</td>\n",
       "    </tr>\n",
       "    <tr>\n",
       "      <th>64</th>\n",
       "      <td>C62</td>\n",
       "      <td>8</td>\n",
       "      <td>0.007397</td>\n",
       "    </tr>\n",
       "    <tr>\n",
       "      <th>9</th>\n",
       "      <td>C49</td>\n",
       "      <td>10</td>\n",
       "      <td>0.007180</td>\n",
       "    </tr>\n",
       "    <tr>\n",
       "      <th>36</th>\n",
       "      <td>C52</td>\n",
       "      <td>9</td>\n",
       "      <td>0.005437</td>\n",
       "    </tr>\n",
       "    <tr>\n",
       "      <th>17</th>\n",
       "      <td>C74</td>\n",
       "      <td>9</td>\n",
       "      <td>0.004967</td>\n",
       "    </tr>\n",
       "    <tr>\n",
       "      <th>57</th>\n",
       "      <td>D04</td>\n",
       "      <td>1</td>\n",
       "      <td>0.003817</td>\n",
       "    </tr>\n",
       "    <tr>\n",
       "      <th>60</th>\n",
       "      <td>C72</td>\n",
       "      <td>5</td>\n",
       "      <td>0.003482</td>\n",
       "    </tr>\n",
       "    <tr>\n",
       "      <th>27</th>\n",
       "      <td>C30,C31</td>\n",
       "      <td>8</td>\n",
       "      <td>0.003443</td>\n",
       "    </tr>\n",
       "    <tr>\n",
       "      <th>70</th>\n",
       "      <td>C58</td>\n",
       "      <td>2</td>\n",
       "      <td>0.002489</td>\n",
       "    </tr>\n",
       "    <tr>\n",
       "      <th>62</th>\n",
       "      <td>C69</td>\n",
       "      <td>5</td>\n",
       "      <td>0.002133</td>\n",
       "    </tr>\n",
       "    <tr>\n",
       "      <th>51</th>\n",
       "      <td>C75</td>\n",
       "      <td>5</td>\n",
       "      <td>0.001977</td>\n",
       "    </tr>\n",
       "    <tr>\n",
       "      <th>38</th>\n",
       "      <td>C39</td>\n",
       "      <td>6</td>\n",
       "      <td>0.001885</td>\n",
       "    </tr>\n",
       "    <tr>\n",
       "      <th>63</th>\n",
       "      <td>C37</td>\n",
       "      <td>3</td>\n",
       "      <td>0.001693</td>\n",
       "    </tr>\n",
       "    <tr>\n",
       "      <th>7</th>\n",
       "      <td>C47</td>\n",
       "      <td>2</td>\n",
       "      <td>0.001090</td>\n",
       "    </tr>\n",
       "  </tbody>\n",
       "</table>\n",
       "<p>74 rows × 3 columns</p>\n",
       "</div>"
      ],
      "text/plain": [
       "   Cancer_code  Nb_features        R2\n",
       "24         C17           33  0.068570\n",
       "5      C00-C14           37  0.068442\n",
       "18         C53           31  0.060277\n",
       "26     C19-C21           33  0.046503\n",
       "12         C43           20  0.042180\n",
       "14         C71           27  0.041360\n",
       "1          C56           32  0.039385\n",
       "32         C68           11  0.034786\n",
       "2          C64           27  0.034476\n",
       "40     C33,C34           35  0.034372\n",
       "65         D00           27  0.032666\n",
       "22         C55           32  0.032358\n",
       "10         C45           21  0.031941\n",
       "8          C78           25  0.031088\n",
       "46         C82           22  0.030634\n",
       "61         D09            7  0.030008\n",
       "16         C15           30  0.029643\n",
       "58         C70           21  0.028950\n",
       "69         D06            6  0.027907\n",
       "42         C25           29  0.027085\n",
       "28         C83           21  0.026749\n",
       "13         C18           32  0.024540\n",
       "6          C24           21  0.023931\n",
       "47         C90           24  0.022840\n",
       "44         C54           28  0.022838\n",
       "41         C85           24  0.021835\n",
       "43         C16           33  0.021323\n",
       "59         C65           11  0.020115\n",
       "0          C80           34  0.020004\n",
       "54         C32           24  0.019790\n",
       "..         ...          ...       ...\n",
       "23         C76           25  0.013046\n",
       "19     C40,C41           14  0.012700\n",
       "52         C88           12  0.012665\n",
       "67         D07           14  0.012643\n",
       "56         C61           37  0.012401\n",
       "55         C63           13  0.011663\n",
       "49         C46            9  0.011603\n",
       "29         C48           13  0.011581\n",
       "20         C51           11  0.011499\n",
       "25         C81           15  0.011466\n",
       "66         D03            7  0.010718\n",
       "45         C60           15  0.010175\n",
       "34         C73           14  0.010159\n",
       "48         C66            6  0.009228\n",
       "73         C86            3  0.009141\n",
       "71         D02           10  0.009016\n",
       "3          C44           18  0.008994\n",
       "64         C62            8  0.007397\n",
       "9          C49           10  0.007180\n",
       "36         C52            9  0.005437\n",
       "17         C74            9  0.004967\n",
       "57         D04            1  0.003817\n",
       "60         C72            5  0.003482\n",
       "27     C30,C31            8  0.003443\n",
       "70         C58            2  0.002489\n",
       "62         C69            5  0.002133\n",
       "51         C75            5  0.001977\n",
       "38         C39            6  0.001885\n",
       "63         C37            3  0.001693\n",
       "7          C47            2  0.001090\n",
       "\n",
       "[74 rows x 3 columns]"
      ]
     },
     "execution_count": 80,
     "metadata": {},
     "output_type": "execute_result"
    }
   ],
   "source": [
    "#df_lasso1.to_csv(path_or_buf = 'lasso_choice_cancers.csv', sep=',', na_rep='')\n",
    "df_lasso1.sort_values(by=['R2'],inplace=False, ascending=False)"
   ]
  },
  {
   "cell_type": "markdown",
   "metadata": {},
   "source": [
    "Il paraît que le type de cancer le mieux expliqué par les variables choisies et pendant le période observée serait C17 (petit intestin), avec 33 features significatives et un R2 de 6,86%.\n",
    "Ce résultat est très faible."
   ]
  },
  {
   "cell_type": "code",
   "execution_count": 82,
   "metadata": {
    "collapsed": false
   },
   "outputs": [
    {
     "name": "stdout",
     "output_type": "stream",
     "text": [
      "Type de cancer :  C17\n",
      "R2 :  0.0685703764511\n",
      "Nombre de features prises en compte par le modèle :  33\n",
      "Features non négatives ordonnées par coefficients :\n",
      "\tSH.HIV.1524.FE.ZS, 52.744\n",
      "\tSP.DYN.TO65.FE.ZS, 44.976\n",
      "\tSH.HIV.1524.MA.ZS, -44.261\n",
      "\tNV.SRV.TETC.CD, 42.560\n",
      "\tNE.CON.PETC.CD, -31.964\n",
      "\tSP.DYN.TO65.MA.ZS, -28.696\n",
      "\tSN.ITK.DEFC.ZS, 21.704\n",
      "\tNV.AGR.TOTL.CD, -15.450\n",
      "\tSH.TBS.INCD, 15.048\n",
      "\tNV.IND.MANF.CD, -13.455\n",
      "\tEN.ATM.CO2E.KT, 12.815\n",
      "\tSL.UEM.TOTL.NE.ZS, -11.113\n",
      "\tSP.POP.DPND.OL, -10.734\n",
      "\tAG.LND.TOTL.K2, 8.789\n",
      "\tSP.DYN.IMRT.IN, -7.698\n",
      "\tNE.EXP.GNFS.CD, 7.672\n",
      "\tSP.POP.DPND, -5.128\n",
      "\tSH.XPD.TOTL.ZS, -4.831\n",
      "\tSP.POP.GROW, -4.456\n",
      "\tDT.ODA.OATL.CD, 4.264\n",
      "\tNY.GNS.ICTR.ZS, -2.922\n",
      "\tSH.MED.NUMW.P3, 2.644\n",
      "\tEG.ELC.ACCS.ZS, 2.462\n",
      "\tAG.LND.AGRI.ZS, -2.098\n",
      "\tSH.STA.MMRT.NE, -1.519\n",
      "\tSL.UEM.TOTL.ZS, -1.244\n",
      "\tSH.PRV.SMOK.MA, -1.214\n",
      "\tSP.DYN.CONU.ZS, -1.186\n",
      "\tSP.DYN.LE00.IN, -1.174\n",
      "\tSH.STA.BRTW.ZS, -0.686\n",
      "\tSH.MED.PHYS.ZS, 0.258\n",
      "\tSH.MED.BEDS.ZS, 0.135\n",
      "\tAG.LND.TOTL.UR.K2, 0.123\n",
      "RMSE :  20.45419183376311\n",
      "RMSE rapporté à la moyenne :  6.42831945295776\n"
     ]
    }
   ],
   "source": [
    "#Détails pour le meilleur modèle\n",
    "c_series = df_lasso1[df_lasso1['R2'] == max(df_lasso1['R2'])]['Cancer_code'] #cancer code corresponding to best R2 score\n",
    "c = list(c_series)[0]\n",
    "X_scaled = scaler.fit_transform( df3[df3['Cancer_code'] == c][indicators_old].dropna(axis=1, how='all').fillna(0) )\n",
    "y = df3[df3['Cancer_code'] == c]['Mortality_rate']\n",
    "linlasso = Lasso(alpha=0.005, max_iter = 10000).fit(X_scaled, y)  \n",
    "print('Type de cancer : ', c)\n",
    "print('R2 : ', linlasso.score(X_scaled, y) )\n",
    "print('Nombre de features prises en compte par le modèle : ', np.sum(linlasso.coef_ != 0))\n",
    "print('Features non négatives ordonnées par coefficients :')\n",
    "for e in sorted (list(zip(list(df3[indicators_old]), linlasso.coef_)),\n",
    "                key = lambda e: -abs(e[1])):\n",
    "    if e[1] != 0:\n",
    "        print('\\t{}, {:.3f}'.format(e[0], e[1]))   \n",
    "        \n",
    "y_pred = linlasso.predict(X_scaled)\n",
    "rmse = sqrt(mean_squared_error(y, y_pred)); print('RMSE : ', rmse)\n",
    "print('RMSE rapporté à la moyenne : ', rmse / np.mean(y))        "
   ]
  },
  {
   "cell_type": "markdown",
   "metadata": {},
   "source": [
    "## Choix de décalage optimal entre l'année d'observation des indicateurs socio-économiques et l'année d'observation du taux de mortalité (delta), à travers une régression lasso linéaire"
   ]
  },
  {
   "cell_type": "markdown",
   "metadata": {},
   "source": [
    "On part d'un dataset contenant le taux de mortalité calculé par tranche d'âge et par sexe, pour chaque pays et pour chaque année. \n",
    "Les valeurs manquantes des indicateurs ont été remplacées par la dernière année disponible par pays.\n",
    "data.csv est issu du programme xxx et il comprend :\n",
    "    - une séléction d'années : 16 années (2000 - 2015)\n",
    "    - tous les pays ayant une correpondance entre le fichier mortalité et le fichier worldbank : 99 pays (!!!pas le même nombre qu'avant!!!)\n",
    "    - un type de cancer : C33, C34 (cancer du poumon); pas de variable type de cancer présente dans le dataset\n",
    "    - une séléction d'indicateurs : 44 choisis parmis ceux avec moins de 25% de valeurs manquantes"
   ]
  },
  {
   "cell_type": "code",
   "execution_count": 52,
   "metadata": {
    "collapsed": true
   },
   "outputs": [],
   "source": [
    "df = pd.read_csv('data_2000.csv', header=0,sep=',', low_memory=False)\n",
    "df.drop(['Unnamed: 0'], axis = 1, inplace = True)"
   ]
  },
  {
   "cell_type": "code",
   "execution_count": 62,
   "metadata": {
    "collapsed": true
   },
   "outputs": [],
   "source": [
    "indicators = ['SP.URB.TOTL.IN.ZS',\t'SP.URB.GROW',\t'SP.POP.GROW',\t'SE.PRM.DURS',\t'AG.SRF.TOTL.K2',\t'SE.PRE.DURS',\t'EN.POP.DNST',\t'SE.SEC.DURS',\t'SP.DYN.CBRT.IN',\t'SP.DYN.CDRT.IN',\t'NY.ADJ.AEDU.GN.ZS',\t'SP.DYN.TFRT.IN',\t'SP.ADO.TFRT',\t'SP.DYN.LE00.FE.IN',\t'SP.DYN.LE00.IN',\t'SP.POP.DPND',\t'SP.DYN.AMRT.FE',\t'SP.DYN.AMRT.MA',\t'EN.ATM.NOXE.KT.CE',\t'EN.ATM.METH.KT.CE',\t'AG.LND.AGRI.K2',\t'EN.ATM.GHGO.KT.CE',\t'AG.LND.AGRI.ZS',\t'AG.PRD.FOOD.XD',\t'IT.CEL.SETS',\t'AG.PRD.LVSK.XD',\t'AG.PRD.CROP.XD',\t'IT.MLT.MAIN',\t'EN.ATM.GHGT.KT.CE',\t'EN.ATM.CO2E.GF.ZS',\t'EN.ATM.CO2E.LF.ZS',\t'EN.ATM.CO2E.SF.ZS',\t'NY.GDP.FRST.RT.ZS',\t'NY.GDP.MINR.RT.ZS',\t'EN.ATM.CO2E.LF.KT',\t'EN.ATM.METH.AG.KT.CE',\t'EN.ATM.METH.EG.KT.CE',\t'EN.ATM.NOXE.AG.KT.CE',\t'EN.ATM.NOXE.EG.KT.CE',\t'NY.GDP.TOTL.RT.ZS',\t'EN.ATM.CO2E.KT',\t'EN.ATM.CO2E.PC',\t'NY.GDP.MKTP.CD',\t'NY.GDP.PCAP.CD']          "
   ]
  },
  {
   "cell_type": "code",
   "execution_count": 57,
   "metadata": {
    "collapsed": false
   },
   "outputs": [
    {
     "name": "stdout",
     "output_type": "stream",
     "text": [
      "16\n"
     ]
    }
   ],
   "source": [
    "#vérifier années présentes dans le dataset\n",
    "sorted(df['Year'].unique())\n",
    "print(len(df['Year'].unique()))"
   ]
  },
  {
   "cell_type": "code",
   "execution_count": 58,
   "metadata": {
    "collapsed": false
   },
   "outputs": [
    {
     "data": {
      "text/plain": [
       "99"
      ]
     },
     "execution_count": 58,
     "metadata": {},
     "output_type": "execute_result"
    }
   ],
   "source": [
    "#vérifier les pays présents dans le dataset\n",
    "sorted(df['Country'].unique())\n",
    "len(df['Country'].unique())"
   ]
  },
  {
   "cell_type": "code",
   "execution_count": 64,
   "metadata": {
    "collapsed": false
   },
   "outputs": [
    {
     "name": "stdout",
     "output_type": "stream",
     "text": [
      "44\n",
      "49\n"
     ]
    }
   ],
   "source": [
    "#vérifier les indicateurs world bank présents dans le dataset\n",
    "print(len(indicators)) #39\n",
    "print(len(df.columns)) #51"
   ]
  },
  {
   "cell_type": "code",
   "execution_count": 66,
   "metadata": {
    "collapsed": false
   },
   "outputs": [
    {
     "name": "stdout",
     "output_type": "stream",
     "text": [
      "['AG.LND.AGRI.K2', 'AG.LND.AGRI.ZS', 'AG.PRD.CROP.XD', 'AG.PRD.FOOD.XD', 'AG.PRD.LVSK.XD', 'AG.SRF.TOTL.K2', 'EN.ATM.CO2E.GF.ZS', 'EN.ATM.CO2E.KT', 'EN.ATM.CO2E.LF.KT', 'EN.ATM.CO2E.LF.ZS', 'EN.ATM.CO2E.PC', 'EN.ATM.CO2E.SF.ZS', 'EN.ATM.GHGO.KT.CE', 'EN.ATM.GHGT.KT.CE', 'EN.ATM.METH.AG.KT.CE', 'EN.ATM.METH.EG.KT.CE', 'EN.ATM.METH.KT.CE', 'EN.ATM.NOXE.AG.KT.CE', 'EN.ATM.NOXE.EG.KT.CE', 'EN.ATM.NOXE.KT.CE', 'EN.POP.DNST', 'IT.CEL.SETS', 'IT.MLT.MAIN', 'NY.ADJ.AEDU.GN.ZS', 'NY.GDP.FRST.RT.ZS', 'NY.GDP.MINR.RT.ZS', 'NY.GDP.MKTP.CD', 'NY.GDP.PCAP.CD', 'NY.GDP.TOTL.RT.ZS', 'SE.PRE.DURS', 'SE.PRM.DURS', 'SE.SEC.DURS', 'SP.ADO.TFRT', 'SP.DYN.AMRT.FE', 'SP.DYN.AMRT.MA', 'SP.DYN.CBRT.IN', 'SP.DYN.CDRT.IN', 'SP.DYN.LE00.FE.IN', 'SP.DYN.LE00.IN', 'SP.DYN.TFRT.IN', 'SP.POP.DPND', 'SP.POP.GROW', 'SP.URB.GROW', 'SP.URB.TOTL.IN.ZS'] \n",
      "\n",
      "['AG.LND.AGRI.K2', 'AG.LND.AGRI.ZS', 'AG.PRD.CROP.XD', 'AG.PRD.FOOD.XD', 'AG.PRD.LVSK.XD', 'AG.SRF.TOTL.K2', 'Age_bucket', 'Country', 'EN.ATM.CO2E.GF.ZS', 'EN.ATM.CO2E.KT', 'EN.ATM.CO2E.LF.KT', 'EN.ATM.CO2E.LF.ZS', 'EN.ATM.CO2E.PC', 'EN.ATM.CO2E.SF.ZS', 'EN.ATM.GHGO.KT.CE', 'EN.ATM.GHGT.KT.CE', 'EN.ATM.METH.AG.KT.CE', 'EN.ATM.METH.EG.KT.CE', 'EN.ATM.METH.KT.CE', 'EN.ATM.NOXE.AG.KT.CE', 'EN.ATM.NOXE.EG.KT.CE', 'EN.ATM.NOXE.KT.CE', 'EN.POP.DNST', 'IT.CEL.SETS', 'IT.MLT.MAIN', 'Mortality_rate', 'NY.ADJ.AEDU.GN.ZS', 'NY.GDP.FRST.RT.ZS', 'NY.GDP.MINR.RT.ZS', 'NY.GDP.MKTP.CD', 'NY.GDP.PCAP.CD', 'NY.GDP.TOTL.RT.ZS', 'SE.PRE.DURS', 'SE.PRM.DURS', 'SE.SEC.DURS', 'SP.ADO.TFRT', 'SP.DYN.AMRT.FE', 'SP.DYN.AMRT.MA', 'SP.DYN.CBRT.IN', 'SP.DYN.CDRT.IN', 'SP.DYN.LE00.FE.IN', 'SP.DYN.LE00.IN', 'SP.DYN.TFRT.IN', 'SP.POP.DPND', 'SP.POP.GROW', 'SP.URB.GROW', 'SP.URB.TOTL.IN.ZS', 'Sex', 'Year']\n"
     ]
    }
   ],
   "source": [
    "print(sorted(indicators), '\\n')\n",
    "print(sorted(df.columns))"
   ]
  },
  {
   "cell_type": "code",
   "execution_count": 67,
   "metadata": {
    "collapsed": true
   },
   "outputs": [],
   "source": [
    "#initialize lists\n",
    "max_delta = max(df['Year']) - min(df['Year'])\n",
    "year = 2000\n",
    "lasso_base_year = np.empty(max_delta, dtype='int') #year of features\n",
    "lasso_delta = np.empty(max_delta, dtype='int') #year of target : year + delta\n",
    "lasso_nb_obs = np.empty(max_delta, dtype='int') #number of observations the model is built on\n",
    "lasso_r2 = np.empty(max_delta, dtype='float64')\n",
    "lasso_nb_features = np.empty(max_delta, dtype='int')\n",
    "i=0"
   ]
  },
  {
   "cell_type": "code",
   "execution_count": 68,
   "metadata": {
    "collapsed": true
   },
   "outputs": [],
   "source": [
    "for delta in range(1,max_delta+1):\n",
    "    df['Mortality_shifted'] = df.groupby(['Sex', 'Age_bucket', 'Country'])['Mortality_rate'].shift(-delta)\n",
    "    y = df[df['Year'] == 2000].dropna()['Mortality_shifted']\n",
    "    X_scaled = scaler.fit_transform( df[df['Year'] == year].dropna()[indicators + ['Sex', 'Age_bucket']] )\n",
    "    linlasso = Lasso(alpha=0.005, max_iter = 10000).fit(X_scaled, y)  \n",
    "\n",
    "    lasso_base_year[i] = year\n",
    "    lasso_delta[i] = delta    \n",
    "    lasso_nb_obs[i] = len(y)               \n",
    "    lasso_nb_features[i] = np.sum(linlasso.coef_ != 0)\n",
    "    lasso_r2[i] = linlasso.score(X_scaled, y)\n",
    "    i = i+1\n",
    "\n",
    "df_lasso = pd.DataFrame({'Base_year':lasso_base_year,\n",
    "                         'Delta':lasso_delta, \n",
    "                         'Nb_obs': lasso_nb_obs,\n",
    "                         'Nb_features':lasso_nb_features,\n",
    "                         'R2': lasso_r2 })   "
   ]
  },
  {
   "cell_type": "code",
   "execution_count": 69,
   "metadata": {
    "collapsed": false
   },
   "outputs": [
    {
     "data": {
      "text/html": [
       "<div>\n",
       "<table border=\"1\" class=\"dataframe\">\n",
       "  <thead>\n",
       "    <tr style=\"text-align: right;\">\n",
       "      <th></th>\n",
       "      <th>Base_year</th>\n",
       "      <th>Delta</th>\n",
       "      <th>Nb_features</th>\n",
       "      <th>Nb_obs</th>\n",
       "      <th>R2</th>\n",
       "    </tr>\n",
       "  </thead>\n",
       "  <tbody>\n",
       "    <tr>\n",
       "      <th>14</th>\n",
       "      <td>2000</td>\n",
       "      <td>15</td>\n",
       "      <td>14</td>\n",
       "      <td>320</td>\n",
       "      <td>0.446156</td>\n",
       "    </tr>\n",
       "    <tr>\n",
       "      <th>5</th>\n",
       "      <td>2000</td>\n",
       "      <td>6</td>\n",
       "      <td>42</td>\n",
       "      <td>2016</td>\n",
       "      <td>0.358313</td>\n",
       "    </tr>\n",
       "    <tr>\n",
       "      <th>0</th>\n",
       "      <td>2000</td>\n",
       "      <td>1</td>\n",
       "      <td>41</td>\n",
       "      <td>2096</td>\n",
       "      <td>0.354860</td>\n",
       "    </tr>\n",
       "    <tr>\n",
       "      <th>13</th>\n",
       "      <td>2000</td>\n",
       "      <td>14</td>\n",
       "      <td>38</td>\n",
       "      <td>1312</td>\n",
       "      <td>0.354125</td>\n",
       "    </tr>\n",
       "    <tr>\n",
       "      <th>1</th>\n",
       "      <td>2000</td>\n",
       "      <td>2</td>\n",
       "      <td>43</td>\n",
       "      <td>2080</td>\n",
       "      <td>0.350789</td>\n",
       "    </tr>\n",
       "    <tr>\n",
       "      <th>4</th>\n",
       "      <td>2000</td>\n",
       "      <td>5</td>\n",
       "      <td>41</td>\n",
       "      <td>2016</td>\n",
       "      <td>0.348650</td>\n",
       "    </tr>\n",
       "    <tr>\n",
       "      <th>2</th>\n",
       "      <td>2000</td>\n",
       "      <td>3</td>\n",
       "      <td>40</td>\n",
       "      <td>2080</td>\n",
       "      <td>0.348255</td>\n",
       "    </tr>\n",
       "    <tr>\n",
       "      <th>3</th>\n",
       "      <td>2000</td>\n",
       "      <td>4</td>\n",
       "      <td>42</td>\n",
       "      <td>2048</td>\n",
       "      <td>0.347451</td>\n",
       "    </tr>\n",
       "    <tr>\n",
       "      <th>12</th>\n",
       "      <td>2000</td>\n",
       "      <td>13</td>\n",
       "      <td>40</td>\n",
       "      <td>1600</td>\n",
       "      <td>0.345936</td>\n",
       "    </tr>\n",
       "    <tr>\n",
       "      <th>9</th>\n",
       "      <td>2000</td>\n",
       "      <td>10</td>\n",
       "      <td>42</td>\n",
       "      <td>1888</td>\n",
       "      <td>0.344506</td>\n",
       "    </tr>\n",
       "    <tr>\n",
       "      <th>7</th>\n",
       "      <td>2000</td>\n",
       "      <td>8</td>\n",
       "      <td>41</td>\n",
       "      <td>2016</td>\n",
       "      <td>0.344372</td>\n",
       "    </tr>\n",
       "    <tr>\n",
       "      <th>6</th>\n",
       "      <td>2000</td>\n",
       "      <td>7</td>\n",
       "      <td>42</td>\n",
       "      <td>2016</td>\n",
       "      <td>0.343201</td>\n",
       "    </tr>\n",
       "    <tr>\n",
       "      <th>11</th>\n",
       "      <td>2000</td>\n",
       "      <td>12</td>\n",
       "      <td>39</td>\n",
       "      <td>1712</td>\n",
       "      <td>0.342550</td>\n",
       "    </tr>\n",
       "    <tr>\n",
       "      <th>8</th>\n",
       "      <td>2000</td>\n",
       "      <td>9</td>\n",
       "      <td>40</td>\n",
       "      <td>1984</td>\n",
       "      <td>0.342328</td>\n",
       "    </tr>\n",
       "    <tr>\n",
       "      <th>10</th>\n",
       "      <td>2000</td>\n",
       "      <td>11</td>\n",
       "      <td>41</td>\n",
       "      <td>1824</td>\n",
       "      <td>0.340498</td>\n",
       "    </tr>\n",
       "  </tbody>\n",
       "</table>\n",
       "</div>"
      ],
      "text/plain": [
       "    Base_year  Delta  Nb_features  Nb_obs        R2\n",
       "14       2000     15           14     320  0.446156\n",
       "5        2000      6           42    2016  0.358313\n",
       "0        2000      1           41    2096  0.354860\n",
       "13       2000     14           38    1312  0.354125\n",
       "1        2000      2           43    2080  0.350789\n",
       "4        2000      5           41    2016  0.348650\n",
       "2        2000      3           40    2080  0.348255\n",
       "3        2000      4           42    2048  0.347451\n",
       "12       2000     13           40    1600  0.345936\n",
       "9        2000     10           42    1888  0.344506\n",
       "7        2000      8           41    2016  0.344372\n",
       "6        2000      7           42    2016  0.343201\n",
       "11       2000     12           39    1712  0.342550\n",
       "8        2000      9           40    1984  0.342328\n",
       "10       2000     11           41    1824  0.340498"
      ]
     },
     "execution_count": 69,
     "metadata": {},
     "output_type": "execute_result"
    }
   ],
   "source": [
    "df_lasso.sort_values(by=['R2'], ascending=False)"
   ]
  },
  {
   "cell_type": "markdown",
   "metadata": {},
   "source": [
    "Le meilleur résultat obtenu est un R2 de 0.446, pour delta = 15, c'est à dire les indicateurs socio-économiques de l'année 2000 expliquent le mieux le taux de mortalité de l'année 2015.\n",
    "\n",
    "Cependant, le nombre d'observations pour ce décalage est très réduit(320), et seules 14 features sont retenues, ce qui pourrait indiquer un fort sur apprentissage.\n",
    "\n",
    "De moins en moins d'observations sont disponibles pour les années les plus récentes pour le taux de mortalité, et il est nécessaire de les exclure du modèle.\n",
    "\n",
    "Sinon, pour les autres décalages, le R2 oscille autour de 0.34"
   ]
  },
  {
   "cell_type": "code",
   "execution_count": 71,
   "metadata": {
    "collapsed": false
   },
   "outputs": [
    {
     "data": {
      "text/plain": [
       "14    15\n",
       "Name: Delta, dtype: int32"
      ]
     },
     "execution_count": 71,
     "metadata": {},
     "output_type": "execute_result"
    }
   ],
   "source": [
    "delta = df_lasso[df_lasso['R2'] == max(df_lasso['R2'])]['Delta']\n",
    "delta"
   ]
  },
  {
   "cell_type": "code",
   "execution_count": 75,
   "metadata": {
    "collapsed": false
   },
   "outputs": [
    {
     "name": "stdout",
     "output_type": "stream",
     "text": [
      "Delta :  15\n",
      "R2 :  0.446155527658\n",
      "Nombre de features prises en compte par le modèle :  14\n",
      "Features non négatives ordonnées par coefficients :\n",
      "\tSH.XPD.TOTL.ZS, 31.448\n",
      "\tSH.MED.NUMW.P3, -30.594\n",
      "\tEN.ATM.CO2E.KT, -19.780\n",
      "\tSH.PRV.SMOK.FE, 13.046\n",
      "\tAG.LND.TOTL.UR.K2, -11.389\n",
      "\tAG.LND.AGRI.ZS, -10.199\n",
      "\tNY.GDP.MKTP.CD, -8.461\n",
      "\tNE.CON.PETC.CD, -7.950\n",
      "\tSH.TBS.INCD, -4.634\n",
      "\tSP.DYN.TO65.FE.ZS, -3.936\n",
      "RMSE :  126.68531778331119\n",
      "RMSE rapporté à la moyenne :  1.5665073862477357\n"
     ]
    }
   ],
   "source": [
    "#Détails pour le meilleur modèle\n",
    "delta_series = df_lasso[df_lasso['R2'] == max(df_lasso['R2'])]['Delta'] #delta corresponding to best R2 score\n",
    "delta = list(delta_series)[0]\n",
    "\n",
    "df['Mortality_shifted'] = df.groupby(['Sex', 'Age_bucket', 'Country'])['Mortality_rate'].shift(-delta)\n",
    "y = df[df['Year'] == 2000].dropna()['Mortality_shifted']\n",
    "X_scaled = scaler.fit_transform( df[df['Year'] == year].dropna()[indicators + ['Sex', 'Age_bucket']] )\n",
    "linlasso = Lasso(alpha=0.005, max_iter = 10000).fit(X_scaled, y)   \n",
    "print('Delta : ', delta)\n",
    "print('R2 : ', linlasso.score(X_scaled, y) )\n",
    "print('Nombre de features prises en compte par le modèle : ', np.sum(linlasso.coef_ != 0))\n",
    "print('Features non négatives ordonnées par coefficients :')\n",
    "for e in sorted (list(zip(list(df3[indicators_old]), linlasso.coef_)),\n",
    "                key = lambda e: -abs(e[1])):\n",
    "    if e[1] != 0:\n",
    "        print('\\t{}, {:.3f}'.format(e[0], e[1]))   \n",
    "        \n",
    "y_pred = linlasso.predict(X_scaled)\n",
    "rmse = sqrt(mean_squared_error(y, y_pred)); print('RMSE : ', rmse)\n",
    "print('RMSE rapporté à la moyenne : ', rmse / np.mean(y))"
   ]
  },
  {
   "cell_type": "markdown",
   "metadata": {},
   "source": [
    "On obtient un RMSE qui est supérieur à la moyenne du taux de mortalité, ce qui nous indique que le modèle obtient des résultats moins bons que un modèle dummy qui prédirait systématiquement la moyenne sans prendre en compte les features. "
   ]
  }
 ],
 "metadata": {
  "kernelspec": {
   "display_name": "Python 3",
   "language": "python",
   "name": "python3"
  },
  "language_info": {
   "codemirror_mode": {
    "name": "ipython",
    "version": 3
   },
   "file_extension": ".py",
   "mimetype": "text/x-python",
   "name": "python",
   "nbconvert_exporter": "python",
   "pygments_lexer": "ipython3",
   "version": "3.6.0"
  }
 },
 "nbformat": 4,
 "nbformat_minor": 2
}
