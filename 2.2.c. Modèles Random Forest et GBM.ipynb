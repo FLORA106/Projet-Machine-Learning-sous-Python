{
 "cells": [
  {
   "cell_type": "code",
   "execution_count": 31,
   "metadata": {},
   "outputs": [
    {
     "data": {
      "text/plain": [
       "'C:\\\\Users\\\\flora_000\\\\Desktop\\\\ENSAE\\\\Projet Python\\\\Data'"
      ]
     },
     "execution_count": 31,
     "metadata": {},
     "output_type": "execute_result"
    }
   ],
   "source": [
    "# on appelle les libraires\n",
    "import numpy as np \n",
    "import pandas as pd \n",
    "get_ipython().magic('matplotlib inline')\n",
    "import matplotlib.pyplot as plt\n",
    "import os\n",
    "import warnings\n",
    "warnings.filterwarnings('ignore')\n",
    "os.chdir(\"C:/Users/flora_000/Desktop/ENSAE/Projet Python/Data\")\n",
    "os.getcwd()"
   ]
  },
  {
   "cell_type": "code",
   "execution_count": 6,
   "metadata": {
    "collapsed": true,
    "scrolled": true
   },
   "outputs": [],
   "source": [
    "# on importe la base de donnée finale\n",
    "data0= pd.read_csv('data_2000_20_12_17.csv',delimiter=',',low_memory=False)\n",
    "# on filtre sur le cancer des poumons \n",
    "data_c34 = data0[data0['Cancer_code'] == \"C33,C34\"]\n",
    "# export du dataframe pour ne pas devoir réimporter la base avec tous les cancers à chaque fois\n",
    "data_c34.to_csv('data.csv')"
   ]
  },
  {
   "cell_type": "code",
   "execution_count": 2,
   "metadata": {},
   "outputs": [
    {
     "name": "stdout",
     "output_type": "stream",
     "text": [
      "(37264, 58)\n"
     ]
    },
    {
     "data": {
      "text/html": [
       "<div>\n",
       "<style>\n",
       "    .dataframe thead tr:only-child th {\n",
       "        text-align: right;\n",
       "    }\n",
       "\n",
       "    .dataframe thead th {\n",
       "        text-align: left;\n",
       "    }\n",
       "\n",
       "    .dataframe tbody tr th {\n",
       "        vertical-align: top;\n",
       "    }\n",
       "</style>\n",
       "<table border=\"1\" class=\"dataframe\">\n",
       "  <thead>\n",
       "    <tr style=\"text-align: right;\">\n",
       "      <th></th>\n",
       "      <th>Unnamed: 0</th>\n",
       "      <th>Unnamed: 0.1</th>\n",
       "      <th>Cancer_code</th>\n",
       "      <th>Sex</th>\n",
       "      <th>Age_bucket</th>\n",
       "      <th>Location</th>\n",
       "      <th>Year</th>\n",
       "      <th>Nb_deaths</th>\n",
       "      <th>Country</th>\n",
       "      <th>Age_group</th>\n",
       "      <th>...</th>\n",
       "      <th>EN.ATM.CO2E.LF.KT</th>\n",
       "      <th>EN.ATM.METH.AG.KT.CE</th>\n",
       "      <th>EN.ATM.METH.EG.KT.CE</th>\n",
       "      <th>EN.ATM.NOXE.AG.KT.CE</th>\n",
       "      <th>EN.ATM.NOXE.EG.KT.CE</th>\n",
       "      <th>NY.GDP.TOTL.RT.ZS</th>\n",
       "      <th>EN.ATM.CO2E.KT</th>\n",
       "      <th>EN.ATM.CO2E.PC</th>\n",
       "      <th>NY.GDP.MKTP.CD</th>\n",
       "      <th>NY.GDP.PCAP.CD</th>\n",
       "    </tr>\n",
       "  </thead>\n",
       "  <tbody>\n",
       "    <tr>\n",
       "      <th>0</th>\n",
       "      <td>14648</td>\n",
       "      <td>42136</td>\n",
       "      <td>C33,C34</td>\n",
       "      <td>1</td>\n",
       "      <td>2</td>\n",
       "      <td>Antigua and Barbuda</td>\n",
       "      <td>2000</td>\n",
       "      <td>0</td>\n",
       "      <td>Antigua and Barbuda</td>\n",
       "      <td>2</td>\n",
       "      <td>...</td>\n",
       "      <td>344.698</td>\n",
       "      <td>23.119577</td>\n",
       "      <td>1.025246</td>\n",
       "      <td>11.202249</td>\n",
       "      <td>2.045597</td>\n",
       "      <td>0.0</td>\n",
       "      <td>344.698</td>\n",
       "      <td>4.439239</td>\n",
       "      <td>7.838379e+08</td>\n",
       "      <td>10094.759065</td>\n",
       "    </tr>\n",
       "    <tr>\n",
       "      <th>1</th>\n",
       "      <td>14663</td>\n",
       "      <td>42151</td>\n",
       "      <td>C33,C34</td>\n",
       "      <td>1</td>\n",
       "      <td>3</td>\n",
       "      <td>Antigua and Barbuda</td>\n",
       "      <td>2000</td>\n",
       "      <td>0</td>\n",
       "      <td>Antigua and Barbuda</td>\n",
       "      <td>3</td>\n",
       "      <td>...</td>\n",
       "      <td>344.698</td>\n",
       "      <td>23.119577</td>\n",
       "      <td>1.025246</td>\n",
       "      <td>11.202249</td>\n",
       "      <td>2.045597</td>\n",
       "      <td>0.0</td>\n",
       "      <td>344.698</td>\n",
       "      <td>4.439239</td>\n",
       "      <td>7.838379e+08</td>\n",
       "      <td>10094.759065</td>\n",
       "    </tr>\n",
       "    <tr>\n",
       "      <th>2</th>\n",
       "      <td>14679</td>\n",
       "      <td>42167</td>\n",
       "      <td>C33,C34</td>\n",
       "      <td>2</td>\n",
       "      <td>3</td>\n",
       "      <td>Antigua and Barbuda</td>\n",
       "      <td>2000</td>\n",
       "      <td>0</td>\n",
       "      <td>Antigua and Barbuda</td>\n",
       "      <td>3</td>\n",
       "      <td>...</td>\n",
       "      <td>344.698</td>\n",
       "      <td>23.119577</td>\n",
       "      <td>1.025246</td>\n",
       "      <td>11.202249</td>\n",
       "      <td>2.045597</td>\n",
       "      <td>0.0</td>\n",
       "      <td>344.698</td>\n",
       "      <td>4.439239</td>\n",
       "      <td>7.838379e+08</td>\n",
       "      <td>10094.759065</td>\n",
       "    </tr>\n",
       "    <tr>\n",
       "      <th>3</th>\n",
       "      <td>14694</td>\n",
       "      <td>42182</td>\n",
       "      <td>C33,C34</td>\n",
       "      <td>1</td>\n",
       "      <td>1</td>\n",
       "      <td>Antigua and Barbuda</td>\n",
       "      <td>2000</td>\n",
       "      <td>0</td>\n",
       "      <td>Antigua and Barbuda</td>\n",
       "      <td>1</td>\n",
       "      <td>...</td>\n",
       "      <td>344.698</td>\n",
       "      <td>23.119577</td>\n",
       "      <td>1.025246</td>\n",
       "      <td>11.202249</td>\n",
       "      <td>2.045597</td>\n",
       "      <td>0.0</td>\n",
       "      <td>344.698</td>\n",
       "      <td>4.439239</td>\n",
       "      <td>7.838379e+08</td>\n",
       "      <td>10094.759065</td>\n",
       "    </tr>\n",
       "    <tr>\n",
       "      <th>4</th>\n",
       "      <td>14708</td>\n",
       "      <td>42196</td>\n",
       "      <td>C33,C34</td>\n",
       "      <td>1</td>\n",
       "      <td>6</td>\n",
       "      <td>Antigua and Barbuda</td>\n",
       "      <td>2000</td>\n",
       "      <td>0</td>\n",
       "      <td>Antigua and Barbuda</td>\n",
       "      <td>6</td>\n",
       "      <td>...</td>\n",
       "      <td>344.698</td>\n",
       "      <td>23.119577</td>\n",
       "      <td>1.025246</td>\n",
       "      <td>11.202249</td>\n",
       "      <td>2.045597</td>\n",
       "      <td>0.0</td>\n",
       "      <td>344.698</td>\n",
       "      <td>4.439239</td>\n",
       "      <td>7.838379e+08</td>\n",
       "      <td>10094.759065</td>\n",
       "    </tr>\n",
       "  </tbody>\n",
       "</table>\n",
       "<p>5 rows × 58 columns</p>\n",
       "</div>"
      ],
      "text/plain": [
       "   Unnamed: 0  Unnamed: 0.1 Cancer_code  Sex  Age_bucket             Location  \\\n",
       "0       14648         42136     C33,C34    1           2  Antigua and Barbuda   \n",
       "1       14663         42151     C33,C34    1           3  Antigua and Barbuda   \n",
       "2       14679         42167     C33,C34    2           3  Antigua and Barbuda   \n",
       "3       14694         42182     C33,C34    1           1  Antigua and Barbuda   \n",
       "4       14708         42196     C33,C34    1           6  Antigua and Barbuda   \n",
       "\n",
       "   Year  Nb_deaths              Country  Age_group       ...        \\\n",
       "0  2000          0  Antigua and Barbuda          2       ...         \n",
       "1  2000          0  Antigua and Barbuda          3       ...         \n",
       "2  2000          0  Antigua and Barbuda          3       ...         \n",
       "3  2000          0  Antigua and Barbuda          1       ...         \n",
       "4  2000          0  Antigua and Barbuda          6       ...         \n",
       "\n",
       "   EN.ATM.CO2E.LF.KT  EN.ATM.METH.AG.KT.CE EN.ATM.METH.EG.KT.CE  \\\n",
       "0            344.698             23.119577             1.025246   \n",
       "1            344.698             23.119577             1.025246   \n",
       "2            344.698             23.119577             1.025246   \n",
       "3            344.698             23.119577             1.025246   \n",
       "4            344.698             23.119577             1.025246   \n",
       "\n",
       "   EN.ATM.NOXE.AG.KT.CE  EN.ATM.NOXE.EG.KT.CE  NY.GDP.TOTL.RT.ZS  \\\n",
       "0             11.202249              2.045597                0.0   \n",
       "1             11.202249              2.045597                0.0   \n",
       "2             11.202249              2.045597                0.0   \n",
       "3             11.202249              2.045597                0.0   \n",
       "4             11.202249              2.045597                0.0   \n",
       "\n",
       "   EN.ATM.CO2E.KT  EN.ATM.CO2E.PC  NY.GDP.MKTP.CD  NY.GDP.PCAP.CD  \n",
       "0         344.698        4.439239    7.838379e+08    10094.759065  \n",
       "1         344.698        4.439239    7.838379e+08    10094.759065  \n",
       "2         344.698        4.439239    7.838379e+08    10094.759065  \n",
       "3         344.698        4.439239    7.838379e+08    10094.759065  \n",
       "4         344.698        4.439239    7.838379e+08    10094.759065  \n",
       "\n",
       "[5 rows x 58 columns]"
      ]
     },
     "execution_count": 2,
     "metadata": {},
     "output_type": "execute_result"
    }
   ],
   "source": [
    "# on importe la base de donnée finale\n",
    "data= pd.read_csv('data.csv',delimiter=',',low_memory=False)\n",
    "data.describe()\n",
    "print(data.shape)\n",
    "data.head()"
   ]
  },
  {
   "cell_type": "markdown",
   "metadata": {},
   "source": [
    "#  Méthode Bagging : ici, nous allons voir l'algorithme de forêt aléatoire pour une classification et pour une régression."
   ]
  },
  {
   "cell_type": "markdown",
   "metadata": {},
   "source": [
    "# Forêts alétoires Régression "
   ]
  },
  {
   "cell_type": "markdown",
   "metadata": {},
   "source": [
    "L’algorithme d’agrégation de modèles le plus utilisé est celui des forêts aléatoires (bagging), ce qui ne signifie \n",
    "pas qu’il conduit toujours à la meilleure prévision. L'objectif de la forêt aléatoire est de réduire le rique de sur-apprentissage (en comparaison de l'arbre de décision).\n",
    "\n",
    "Plus que le nombre d’arbres n_estimators, le paramètre à optimiser est le nombre de variables tirées aléatoirement pour la recherche de la division optimale d’un nœud : max_features. Par défaut, il prend la valeur p/3 en pour la régression et √p pour la classification. "
   ]
  },
  {
   "cell_type": "code",
   "execution_count": 12,
   "metadata": {},
   "outputs": [
    {
     "name": "stdout",
     "output_type": "stream",
     "text": [
      "count    37264.000000\n",
      "mean        50.884518\n",
      "std        132.585822\n",
      "min          0.000000\n",
      "25%          0.000000\n",
      "50%          1.260432\n",
      "75%         32.844219\n",
      "max       1428.571429\n",
      "Name: Mortality_rate, dtype: float64\n"
     ]
    }
   ],
   "source": [
    "#variable à expliquer : taux de mortalité \n",
    "Y = data['Mortality_rate']\n",
    "print(Y.describe())\n",
    "\n",
    "#variables explicatives quantitatives\n",
    "indicators = ['SP.URB.TOTL.IN.ZS',\t'SP.URB.GROW',\t'SP.POP.GROW',\t'SE.PRM.DURS',\t'AG.SRF.TOTL.K2',\t'SE.PRE.DURS',\t'EN.POP.DNST',\t'SE.SEC.DURS',\t'SP.DYN.CBRT.IN',\t'SP.DYN.CDRT.IN',\t'NY.ADJ.AEDU.GN.ZS',\t'SP.DYN.TFRT.IN',\t'SP.ADO.TFRT',\t'SP.DYN.LE00.FE.IN',\t'SP.DYN.LE00.IN',\t'SP.POP.DPND',\t'SP.DYN.AMRT.FE',\t'SP.DYN.AMRT.MA',\t'EN.ATM.NOXE.KT.CE',\t'EN.ATM.METH.KT.CE',\t'AG.LND.AGRI.K2',\t'EN.ATM.GHGO.KT.CE',\t'AG.LND.AGRI.ZS',\t'AG.PRD.FOOD.XD',\t'IT.CEL.SETS',\t'AG.PRD.LVSK.XD',\t'AG.PRD.CROP.XD',\t'IT.MLT.MAIN',\t'EN.ATM.GHGT.KT.CE',\t'EN.ATM.CO2E.GF.ZS',\t'EN.ATM.CO2E.LF.ZS',\t'EN.ATM.CO2E.SF.ZS',\t'NY.GDP.FRST.RT.ZS',\t'NY.GDP.MINR.RT.ZS',\t'EN.ATM.CO2E.LF.KT',\t'EN.ATM.METH.AG.KT.CE',\t'EN.ATM.METH.EG.KT.CE',\t'EN.ATM.NOXE.AG.KT.CE',\t'EN.ATM.NOXE.EG.KT.CE',\t'NY.GDP.TOTL.RT.ZS',\t'EN.ATM.CO2E.KT',\t'EN.ATM.CO2E.PC',\t'NY.GDP.MKTP.CD',\t'NY.GDP.PCAP.CD']          \n",
    "\n",
    "#variables explicatives catégorielles : sex, tranche d'age, pays\n",
    "data[\"Country_code\"] = data[\"Country\"].astype('category').cat.codes\n",
    "data[\"Sex\"] = data[\"Sex\"].astype('category')\n",
    "data[\"Age_bucket\"] = data[\"Age_bucket\"].astype('category')\n",
    "\n",
    "# Normalisation des variables explicatives\n",
    "X = data[indicators + ['Sex', 'Age_bucket', 'Year', 'Country_code']]\n",
    "from sklearn.preprocessing import MinMaxScaler; scaler = MinMaxScaler()\n",
    "X_scaled = scaler.fit_transform(X)\n",
    "\n",
    "# on constitut nos deux échantillons \"train\" et \"test\"\n",
    "from sklearn.model_selection import train_test_split\n",
    "X_train, X_test, Y_train, Y_test = train_test_split(X_scaled , Y, random_state = 0, test_size=0.3)"
   ]
  },
  {
   "cell_type": "markdown",
   "metadata": {
    "collapsed": true
   },
   "source": [
    "Nous allons calculer le RMSE du modèle en faisant varier les paramètres suivants :\n",
    "- n_estimators :  Le nombre d'arbres dans la forêt. (par défaut = 10)\n",
    "- max_depth : La profondeur maximale de l'arbre. (par défaut = None)\n",
    "- max_features : le nombre de variables tirées aléatoirement pour la recherche de la division optimale d’un nœud"
   ]
  },
  {
   "cell_type": "code",
   "execution_count": 13,
   "metadata": {
    "collapsed": true
   },
   "outputs": [],
   "source": [
    "from sklearn.ensemble import RandomForestRegressor\n",
    "from sklearn import metrics"
   ]
  },
  {
   "cell_type": "code",
   "execution_count": 15,
   "metadata": {},
   "outputs": [
    {
     "name": "stdout",
     "output_type": "stream",
     "text": [
      "n_estimators 1 erreur 103.832866542 103.746370993\n",
      "n_estimators 2 erreur 103.832508737 103.696353557\n",
      "n_estimators 3 erreur 103.83468095 103.692825133\n",
      "n_estimators 4 erreur 103.828182572 103.717506267\n",
      "n_estimators 5 erreur 103.84082215 103.770817244\n",
      "n_estimators 6 erreur 103.828167039 103.716882043\n",
      "n_estimators 7 erreur 103.831307918 103.698316811\n",
      "n_estimators 8 erreur 103.82844305 103.722374551\n",
      "n_estimators 9 erreur 103.830159912 103.734709345\n",
      "n_estimators 10 erreur 103.82852474 103.708893007\n",
      "n_estimators 11 erreur 103.828301777 103.719372112\n",
      "n_estimators 12 erreur 103.828185492 103.718688781\n",
      "n_estimators 13 erreur 103.828149007 103.717440208\n",
      "n_estimators 14 erreur 103.829511547 103.731225255\n",
      "n_estimators 15 erreur 103.828478312 103.710318158\n",
      "n_estimators 16 erreur 103.828243337 103.713936856\n",
      "n_estimators 17 erreur 103.828988396 103.705887378\n",
      "n_estimators 18 erreur 103.833405137 103.694342358\n",
      "n_estimators 19 erreur 103.828328242 103.711815523\n"
     ]
    },
    {
     "data": {
      "text/plain": [
       "<matplotlib.legend.Legend at 0x749317f6a0>"
      ]
     },
     "execution_count": 15,
     "metadata": {},
     "output_type": "execute_result"
    },
    {
     "data": {
      "image/png": "[encoded data removed]",
      "text/plain": [
       "<matplotlib.figure.Figure at 0x7490494198>"
      ]
     },
     "metadata": {},
     "output_type": "display_data"
    }
   ],
   "source": [
    "# on fait varier le nombre d'arbre dans la forêt.\n",
    "curves = []\n",
    "for n_estimators in range(1,20) :\n",
    "    \n",
    "    # définition des paramètres\n",
    "    clf = RandomForestRegressor(n_estimators=n_estimators,max_depth=1)\n",
    "    # apprentissage\n",
    "    clf = clf.fit(X_train, Y_train)\n",
    "    \n",
    "    # on calcule l'erreur (MSE)\n",
    "    err_train = metrics.mean_squared_error( clf.predict(X_train), Y_train)**0.5\n",
    "    err_test = metrics.mean_squared_error( clf.predict(X_test), Y_test)**0.5\n",
    "    print(\"n_estimators\",n_estimators, \"erreur\", err_train, err_test)\n",
    "    curves.append((n_estimators,  err_train, err_test, clf) )\n",
    "\n",
    "plt.plot ( [c[0] for c in curves], [c[1] for c in curves], label=\"train\")\n",
    "plt.plot ( [c[0] for c in curves], [c[2] for c in curves], label=\"test\")\n",
    "\n",
    "plt.legend()\n",
    "# Le modèle ne varie pas en fonction de ce paramètre, on choisit de garder la valeur par défaut n_estimators = 10"
   ]
  },
  {
   "cell_type": "code",
   "execution_count": 17,
   "metadata": {},
   "outputs": [
    {
     "name": "stdout",
     "output_type": "stream",
     "text": [
      "max_depth 1 erreur 103.829387006 103.730432987\n",
      "max_depth 2 erreur 85.2323307097 83.599944892\n",
      "max_depth 3 erreur 65.1095152473 64.7668684495\n",
      "max_depth 4 erreur 54.0617305349 55.1929823881\n",
      "max_depth 5 erreur 45.2319311669 47.4296591468\n",
      "max_depth 6 erreur 37.1546476932 42.5160284259\n",
      "max_depth 7 erreur 30.7878924891 37.1139782472\n",
      "max_depth 8 erreur 26.1575008528 33.0534925608\n",
      "max_depth 9 erreur 21.7069661892 32.6147030752\n",
      "max_depth 10 erreur 18.9629911981 30.9894227641\n",
      "max_depth 11 erreur 16.4100418091 30.228895479\n",
      "max_depth 12 erreur 14.4227279684 31.0630353709\n",
      "max_depth 13 erreur 13.9997391864 29.3880677113\n",
      "max_depth 14 erreur 13.7828151046 29.6314005819\n",
      "max_depth 15 erreur 13.7474249636 30.3613765661\n",
      "max_depth 16 erreur 13.2122632347 30.0142865824\n",
      "max_depth 17 erreur 13.3349478077 30.3078488724\n",
      "max_depth 18 erreur 12.3942592804 30.6745796113\n",
      "max_depth 19 erreur 12.7368322177 30.7487908392\n",
      "max_depth 20 erreur 12.5108656042 30.0970093757\n",
      "max_depth 21 erreur 12.8672360034 30.4683356525\n",
      "max_depth 22 erreur 13.3237010826 30.5846971215\n",
      "max_depth 23 erreur 12.3213280348 29.8209737931\n",
      "max_depth 24 erreur 12.9775660188 31.016958424\n",
      "max_depth 25 erreur 12.2129624222 28.5790466727\n",
      "max_depth 26 erreur 12.5865410181 29.7459771846\n",
      "max_depth 27 erreur 12.4913291701 29.5482765144\n",
      "max_depth 28 erreur 12.1296866209 30.5889056092\n",
      "max_depth 29 erreur 12.6327786942 29.960034866\n",
      "Wall time: 6min 26s\n"
     ]
    },
    {
     "data": {
      "image/png": "[encoded data removed]",
      "text/plain": [
       "<matplotlib.figure.Figure at 0x7493261fd0>"
      ]
     },
     "metadata": {},
     "output_type": "display_data"
    }
   ],
   "source": [
    "%%time\n",
    "# on fait varier a profondeur maximale de l'arbre.\n",
    "curves = []\n",
    "for max_depth in range(1,30) :\n",
    "  \n",
    "    # définition des paramètres\n",
    "    clf = RandomForestRegressor(n_estimators=10,max_depth=max_depth)\n",
    "    # apprentissage\n",
    "    clf = clf.fit(X_train, Y_train)\n",
    "    \n",
    "    # on calcule l'erreur (MSE)\n",
    "    err_train = metrics.mean_squared_error( clf.predict(X_train), Y_train)**0.5\n",
    "    err_test = metrics.mean_squared_error( clf.predict(X_test), Y_test)**0.5\n",
    "    print(\"max_depth\",max_depth, \"erreur\", err_train, err_test)\n",
    "    curves.append((max_depth,  err_train, err_test, clf) )\n",
    "\n",
    "plt.plot ( [c[0] for c in curves], [c[1] for c in curves], label=\"train\")\n",
    "plt.plot ( [c[0] for c in curves], [c[2] for c in curves], label=\"test\")\n",
    "\n",
    "plt.legend()\n",
    "# on choisit max_depth = 13"
   ]
  },
  {
   "cell_type": "code",
   "execution_count": 21,
   "metadata": {},
   "outputs": [
    {
     "name": "stdout",
     "output_type": "stream",
     "text": [
      "max_features 1 erreur 94.0604149145 112.243249693\n",
      "max_features 2 erreur 67.5091051479 84.3195952087\n",
      "max_features 3 erreur 51.4581595404 72.3625036788\n",
      "max_features 4 erreur 55.4878994165 77.5763449696\n",
      "max_features 5 erreur 47.45620569 61.811816881\n",
      "max_features 6 erreur 48.7991858554 67.6616958703\n",
      "max_features 7 erreur 39.9256073943 54.587559119\n",
      "max_features 8 erreur 32.6944373687 47.4730194917\n",
      "max_features 9 erreur 30.3000385555 47.074986095\n",
      "max_features 10 erreur 25.423099835 39.8903215312\n",
      "max_features 11 erreur 21.463295535 37.061687114\n",
      "max_features 12 erreur 23.4088644529 38.2412892912\n",
      "max_features 13 erreur 19.2355921321 32.9410292494\n",
      "max_features 14 erreur 18.7375620796 33.7032778484\n",
      "max_features 15 erreur 18.4162672562 33.7631625878\n",
      "max_features 16 erreur 16.546827467 31.1604488402\n",
      "max_features 17 erreur 17.271966827 32.6938012218\n",
      "max_features 18 erreur 15.9386961852 31.0213632011\n",
      "max_features 19 erreur 14.8022563556 30.2089661347\n",
      "max_features 20 erreur 15.3144588951 29.5537903348\n",
      "max_features 21 erreur 15.4055544167 30.9417412117\n",
      "max_features 22 erreur 15.2845960045 30.8924088947\n",
      "max_features 23 erreur 14.4971886295 29.8140795198\n",
      "max_features 24 erreur 15.3579506086 30.5116399007\n",
      "max_features 25 erreur 15.3857605349 29.8906198113\n",
      "max_features 26 erreur 14.6578782633 30.3643220798\n",
      "max_features 27 erreur 14.5554639017 29.6276533345\n",
      "max_features 28 erreur 14.9398120102 29.8823481363\n",
      "max_features 29 erreur 14.5446846376 29.9685204752\n",
      "max_features 30 erreur 14.8952513529 30.8015132833\n",
      "max_features 31 erreur 14.4882682258 30.736167682\n",
      "max_features 32 erreur 14.3763237927 30.459695236\n",
      "max_features 33 erreur 14.7814345719 30.7892013746\n",
      "max_features 34 erreur 14.3871311478 29.7896261283\n",
      "max_features 35 erreur 14.3172020092 30.4042008536\n",
      "max_features 36 erreur 14.5737468501 29.6735775777\n",
      "max_features 37 erreur 14.5358119287 30.7033214947\n",
      "max_features 38 erreur 14.3545324719 29.0070456327\n",
      "max_features 39 erreur 15.030280432 30.0616696237\n",
      "max_features 40 erreur 14.1845114744 30.3181384339\n",
      "max_features 41 erreur 14.5957649746 29.5906445347\n",
      "max_features 42 erreur 14.5413826253 30.2212604639\n",
      "max_features 43 erreur 14.359625818 30.6533611157\n",
      "max_features 44 erreur 14.1501189193 29.4892921403\n",
      "max_features 45 erreur 14.5311945555 29.4878518971\n",
      "max_features 46 erreur 14.9535278661 31.3499274407\n",
      "Wall time: 3min 27s\n"
     ]
    },
    {
     "data": {
      "image/png": "[encoded data removed]",
      "text/plain": [
       "<matplotlib.figure.Figure at 0x74976a5be0>"
      ]
     },
     "metadata": {},
     "output_type": "display_data"
    }
   ],
   "source": [
    "%%time\n",
    "# on fait varier le nombre de variables tirées aléatoirement pour la recherche de la division optimale d’un nœud.\n",
    "curves = []\n",
    "for max_features in range(1,47) :\n",
    "    \n",
    "    # définition des paramètres\n",
    "    clf = RandomForestRegressor(n_estimators=10,max_depth=13,max_features=max_features)\n",
    "    # apprentissage\n",
    "    clf = clf.fit(X_train, Y_train)\n",
    "    \n",
    "    # on calcule l'erreur (MSE)\n",
    "    err_train = metrics.mean_squared_error( clf.predict(X_train), Y_train)**0.5\n",
    "    err_test = metrics.mean_squared_error( clf.predict(X_test), Y_test)**0.5\n",
    "    print(\"max_features\",max_features, \"erreur\", err_train, err_test)\n",
    "    curves.append((max_features, err_train, err_test, clf) )\n",
    "\n",
    "plt.plot ( [c[0] for c in curves], [c[1] for c in curves], label=\"train\")\n",
    "plt.plot ( [c[0] for c in curves], [c[2] for c in curves], label=\"test\")\n",
    "\n",
    "plt.legend()\n",
    "# on garde max_features = 20"
   ]
  },
  {
   "cell_type": "code",
   "execution_count": 33,
   "metadata": {},
   "outputs": [
    {
     "name": "stdout",
     "output_type": "stream",
     "text": [
      "RMSE_train 15.3757313697\n",
      "RMSE_test 30.6541156759\n",
      "R2_train 0.986427498175\n",
      "R2_test 0.947653644331\n",
      "Wall time: 3.62 s\n"
     ]
    }
   ],
   "source": [
    "%%time\n",
    "# le modèle final est le suivant :\n",
    "RF = RandomForestRegressor(n_estimators=10,max_depth=13,max_features=20)\n",
    "RF = RF.fit(X_train, Y_train)\n",
    "# prédiction\n",
    "Y_pred_train = RF.predict(X_train)\n",
    "Y_pred_test  = RF.predict(X_test)\n",
    "# RMSE\n",
    "err_train = metrics.mean_squared_error(Y_pred_train, Y_train)**0.5\n",
    "err_test = metrics.mean_squared_error(Y_pred_test, Y_test)**0.5\n",
    "print(\"RMSE_train\", err_train)\n",
    "print(\"RMSE_test\", err_test)\n",
    "# R2\n",
    "R2_train = RF.score(X_train , Y_train)\n",
    "R2_test = RF.score(X_test, Y_test)\n",
    "print(\"R2_train\",R2_train)\n",
    "print(\"R2_test\",R2_test)"
   ]
  },
  {
   "cell_type": "code",
   "execution_count": 25,
   "metadata": {},
   "outputs": [
    {
     "name": "stdout",
     "output_type": "stream",
     "text": [
      "Minimum de la base test : 0.0\n",
      "Maximum de la base test : 1341.35853094\n",
      "Moyenne de la base test : 51.58598592286612\n",
      "Médiane de la base test : 1.3077170463979937\n",
      "Ecart-type de la base test : 133.98771776749388\n",
      "Minimum de la base test : 0.0\n",
      "Maximum de la base test : 1291.99145698\n",
      "Moyenne de la base test : 51.5442580229\n",
      "Médiane de la base test : 2.58055303713\n",
      "Ecart-type de la base test : 129.656240598\n"
     ]
    }
   ],
   "source": [
    "# résultat sut la base de test\n",
    "\n",
    "# taux de mortalité observé\n",
    "print(\"Minimum de la base test :\", Y_test.min())\n",
    "print(\"Maximum de la base test :\", Y_test.max())\n",
    "print(\"Moyenne de la base test :\", Y_test.mean())\n",
    "print(\"Médiane de la base test :\", Y_test.median())\n",
    "print(\"Ecart-type de la base test :\", Y_test.std())\n",
    "\n",
    "# taux de mortalité prédit\n",
    "print(\"Minimum de la base test :\", Y_pred_test.min())\n",
    "print(\"Maximum de la base test :\", Y_pred_test.max())\n",
    "print(\"Moyenne de la base test :\", Y_pred_test.mean())\n",
    "print(\"Médiane de la base test :\", np.median(Y_pred_test))\n",
    "print(\"Ecart-type de la base test :\", Y_pred_test.std())"
   ]
  },
  {
   "cell_type": "markdown",
   "metadata": {},
   "source": [
    "A présent, nous utilisons une méthode automatique de recherche des paramètres pour comparer les résultats."
   ]
  },
  {
   "cell_type": "code",
   "execution_count": 30,
   "metadata": {},
   "outputs": [
    {
     "name": "stdout",
     "output_type": "stream",
     "text": [
      "{'max_depth': 19, 'max_features': 24}\n",
      "12.5024431015\n",
      "29.4705625828\n",
      "0.951617787928\n",
      "0.951617787928\n",
      "Wall time: 38min 55s\n"
     ]
    }
   ],
   "source": [
    "%%time\n",
    "#outil grille de recherche\n",
    "from sklearn.grid_search import GridSearchCV\n",
    "\n",
    "#combinaisons de paramètres à tester : Scikit-learn va évaluer toutes les combinaisons\n",
    "# comme le modèle ne varie pas en fonction de n_estimators, on fait varier uniquement max_depth et max_features.\n",
    "#parametres = {\"max_depth\":[10],\"max_features\":[70]}\n",
    "parametres = {\"max_depth\":[10,11,12,13,14,15,16,17,18,19,20],\"max_features\":[10,11,12,13,14,15,16,17,18,19,20,21,22,23,24,25,26,27,28,29,30]}\n",
    "\n",
    "#classifieur à utiliser – Random Forest\n",
    "RF = RandomForestRegressor()\n",
    "#instanciation de la recherche\n",
    "grille = GridSearchCV(estimator=RF,param_grid=parametres)\n",
    "\n",
    "#lancer l'exploration\n",
    "resultats = grille.fit(X_train, Y_train)\n",
    "#meilleur paramétrage : \n",
    "print(resultats.best_params_)\n",
    "#prédiction avec le ‘’meilleur’’ modèle identifié\n",
    "Y_pred_train = resultats.predict(X_train)\n",
    "Y_pred_test = resultats.predict(X_test) \n",
    "#performances du ‘’meilleur’’ modèle : taux d’erreur = 0.065\n",
    "# RMSE\n",
    "err_train = metrics.mean_squared_error( Y_pred_train, Y_train)**0.5\n",
    "err_test = metrics.mean_squared_error( Y_pred_test, Y_test)**0.5\n",
    "print(err_train)\n",
    "print(err_test)\n",
    "# R2\n",
    "R2_train = resultats.score(X_test, Y_test)\n",
    "R2_test = resultats.score(X_test, Y_test)\n",
    "print(R2_train)\n",
    "print(R2_test)"
   ]
  },
  {
   "cell_type": "markdown",
   "metadata": {},
   "source": [
    "Les résultats sont légèrement mieux que la méthode manuelle. Ainsi, nous retenons les paramètres obtenus par cette dernière méthode."
   ]
  },
  {
   "cell_type": "markdown",
   "metadata": {},
   "source": [
    "# Forêts alétoires Classification"
   ]
  },
  {
   "cell_type": "markdown",
   "metadata": {},
   "source": [
    "Une forêt aléatoire est un méta-estimateur qui correspond à un certain nombre de classificateurs d'arbres de décision sur divers sous-échantillons de l'ensemble de données et utilise la moyenne pour  améliorer la précision prédictive et contrôler le sur-ajustement. La taille du sous-échantillon est toujours la même que celle de l'échantillon original, mais les échantillons sont remplacés si bootstrap = True (par défaut)."
   ]
  },
  {
   "cell_type": "code",
   "execution_count": 9,
   "metadata": {
    "scrolled": true
   },
   "outputs": [
    {
     "name": "stdout",
     "output_type": "stream",
     "text": [
      "Mortality_cat\n",
      "1     13051\n",
      "2      1855\n",
      "3      1863\n",
      "4      1863\n",
      "5      1863\n",
      "6      1863\n",
      "7      1863\n",
      "8      1864\n",
      "9      1863\n",
      "10     1863\n",
      "11     1863\n",
      "12     1863\n",
      "13     1863\n",
      "14      373\n",
      "15      373\n",
      "16      372\n",
      "17      373\n",
      "18      373\n",
      "Name: Mortality_cat, dtype: int64\n",
      "Mortality_cat\n",
      "1       0.000000\n",
      "2       0.104974\n",
      "3       0.375507\n",
      "4       0.855722\n",
      "5       1.958020\n",
      "6       4.333836\n",
      "7       8.759500\n",
      "8      15.763014\n",
      "9      26.243081\n",
      "10     41.913380\n",
      "11     67.882232\n",
      "12    113.848249\n",
      "13    206.613198\n",
      "14    302.866096\n",
      "15    355.358866\n",
      "16    434.428403\n",
      "17    612.906082\n",
      "18    938.472516\n",
      "Name: Mortality_rate, dtype: float64\n"
     ]
    }
   ],
   "source": [
    "# on crée des tranches pour la variables taux de mortalité\n",
    "data['Mortality_rate'].describe()\n",
    "data.sort_values(by=['Mortality_rate'], ascending=False)\n",
    "data['Mortality_rate'].quantile([0,.1,.2,.3,.35,.4,.45,.5,.55,.6,.65,.7,.75,.8,.85,.9,.95,.96,.97,.98,.99,1])\n",
    "data[data['Mortality_rate']==0].count() # il y a 13051 lignes avec des zéros sur 37264 au total => il y a 35.0230786% avec des zéros\n",
    " \n",
    "# on crée 18 tranches\n",
    "data['Mortality_cat'] = pd.qcut(data['Mortality_rate'] , q = [0,0.350230786,0.4,.45,.5,.55,.6,.65,.7,.75,.8,.85,.9,.95,.96,.97,.98,.99,1], \n",
    "    labels = [1,2,3,4,5,6,7,8,9,10,11,12,13,14,15,16,17,18]) \n",
    "print(data.groupby(['Mortality_cat'])['Mortality_cat'].count())\n",
    "print(data.groupby(['Mortality_cat'])['Mortality_rate'].mean())"
   ]
  },
  {
   "cell_type": "code",
   "execution_count": 10,
   "metadata": {
    "collapsed": true
   },
   "outputs": [],
   "source": [
    "# variable à expliquer\n",
    "Y= data[\"Mortality_cat\"] \n",
    "type(Y)\n",
    "Y2 = pd.DataFrame({'Mortality_cat':Y})\n",
    "\n",
    "\n",
    "# variables explicatives\n",
    "X= data[[\"Sex\",\"Age_bucket\",\"Year\",\"Country\", \"SP.URB.TOTL.IN.ZS\",\"SP.URB.GROW\",\"SP.POP.GROW\",\"SE.PRM.DURS\",\n",
    "\"AG.SRF.TOTL.K2\",\"SE.PRE.DURS\",\"EN.POP.DNST\",\"SE.SEC.DURS\",\"SP.DYN.CBRT.IN\",\"SP.DYN.CDRT.IN\",\n",
    "\"NY.ADJ.AEDU.GN.ZS\", \"SP.DYN.TFRT.IN\", \"SP.ADO.TFRT\", \"SP.DYN.LE00.FE.IN\", \"SP.DYN.LE00.IN\",\n",
    "\"SP.POP.DPND\",\"SP.DYN.AMRT.FE\",\"SP.DYN.AMRT.MA\",\"EN.ATM.NOXE.KT.CE\",\"EN.ATM.METH.KT.CE\",\n",
    "\"AG.LND.AGRI.K2\", \"EN.ATM.GHGO.KT.CE\",\"AG.LND.AGRI.ZS\",\"AG.PRD.FOOD.XD\",\"IT.CEL.SETS\",\n",
    "\"AG.PRD.LVSK.XD\",\"AG.PRD.CROP.XD\",\"IT.MLT.MAIN\",\"EN.ATM.GHGT.KT.CE\",\"EN.ATM.CO2E.GF.ZS\",\n",
    "\"EN.ATM.CO2E.LF.ZS\",\"EN.ATM.CO2E.SF.ZS\",\"NY.GDP.FRST.RT.ZS\",\"NY.GDP.MINR.RT.ZS\",\"EN.ATM.CO2E.LF.KT\",\n",
    "\"EN.ATM.METH.AG.KT.CE\",\"EN.ATM.METH.EG.KT.CE\",\"EN.ATM.NOXE.AG.KT.CE\", \"EN.ATM.NOXE.EG.KT.CE\",\n",
    "\"NY.GDP.TOTL.RT.ZS\", \"EN.ATM.CO2E.KT\",\"EN.ATM.CO2E.PC\",\"NY.GDP.MKTP.CD\",\"NY.GDP.PCAP.CD\"]] \n",
    "\n",
    "\n",
    "# On transforme les variables sous forme de chaînes de caractères en variables binaires :\n",
    "# Ici, seul la variable country est concernée\n",
    "X2 = X.T.to_dict().values()\n",
    "from sklearn.feature_extraction import DictVectorizer\n",
    "prep = DictVectorizer()\n",
    "X3 = prep.fit_transform(X2).toarray()\n",
    "\n",
    "# on constitut nos deux échantillons \"train\" et \"test\" \n",
    "from sklearn.model_selection import train_test_split\n",
    "X_train, X_test, Y_train, Y_test = train_test_split(X3, Y2, test_size=0.3)"
   ]
  },
  {
   "cell_type": "code",
   "execution_count": 11,
   "metadata": {},
   "outputs": [
    {
     "name": "stdout",
     "output_type": "stream",
     "text": [
      "RandomForestClassifier(bootstrap=True, class_weight=None, criterion='gini',\n",
      "            max_depth=None, max_features='auto', max_leaf_nodes=None,\n",
      "            min_impurity_decrease=0.0, min_impurity_split=None,\n",
      "            min_samples_leaf=1, min_samples_split=2,\n",
      "            min_weight_fraction_leaf=0.0, n_estimators=10, n_jobs=1,\n",
      "            oob_score=False, random_state=None, verbose=0,\n",
      "            warm_start=False)\n"
     ]
    }
   ],
   "source": [
    "#importation de la classe GradientBoostingClassifier\n",
    "from sklearn.ensemble import RandomForestClassifier\n",
    "print(RandomForestClassifier())\n",
    "from sklearn import metrics"
   ]
  },
  {
   "cell_type": "markdown",
   "metadata": {},
   "source": [
    "Comme pour la régression, nous calculons le RMSE du modèle en faisant varier les paramètres suivants :\n",
    "\n",
    "- n_estimators : Le nombre d'arbres dans la forêt. (par défaut = 10)\n",
    "- max_depth : La profondeur maximale de l'arbre. (par défaut = None)\n",
    "- max_features : le nombre de variables tirées aléatoirement pour la recherche de la division optimale d’un nœud"
   ]
  },
  {
   "cell_type": "code",
   "execution_count": 22,
   "metadata": {},
   "outputs": [
    {
     "name": "stdout",
     "output_type": "stream",
     "text": [
      "n_estimators 1 erreur 4.32445693374 4.37693989703\n",
      "n_estimators 2 erreur 5.26882382737 5.27871650525\n",
      "n_estimators 3 erreur 4.92204215781 5.00633766497\n",
      "n_estimators 4 erreur 4.5101947937 4.608200282\n",
      "n_estimators 5 erreur 4.55177325656 4.71340531085\n",
      "n_estimators 6 erreur 4.04007300035 4.12864464673\n",
      "n_estimators 7 erreur 3.91793500342 4.10854513334\n",
      "n_estimators 8 erreur 5.36302508208 5.43064912424\n",
      "n_estimators 9 erreur 4.51695166271 4.60920949454\n",
      "n_estimators 10 erreur 4.46312138956 4.54225834936\n",
      "n_estimators 11 erreur 3.60485474938 3.75753268493\n",
      "n_estimators 12 erreur 3.68691636013 3.83599373602\n",
      "n_estimators 13 erreur 4.55113730728 4.65281187224\n",
      "n_estimators 14 erreur 4.59188592489 4.68129150566\n"
     ]
    },
    {
     "data": {
      "text/plain": [
       "<matplotlib.legend.Legend at 0x6500013fd0>"
      ]
     },
     "execution_count": 22,
     "metadata": {},
     "output_type": "execute_result"
    },
    {
     "data": {
      "image/png": "[encoded data removed]",
      "text/plain": [
       "<matplotlib.figure.Figure at 0x6504f96160>"
      ]
     },
     "metadata": {},
     "output_type": "display_data"
    }
   ],
   "source": [
    "# On cherche les parametres optimaux \n",
    "# on fait varier le nombre d'arbre dans la forêt..\n",
    "curves = []\n",
    "for n_estimators in range(1,15) :\n",
    "    \n",
    "\n",
    "    # Etape 1 : définition des paramètres\n",
    "    RFC= RandomForestClassifier(n_estimators = n_estimators, max_depth=10 )\n",
    "    \n",
    "    # Etape 2 : apprentissage\n",
    "    RFC = RFC.fit(X_train,  Y_train[\"Mortality_cat\"].ravel())  #attention c'est assez long à tourner\n",
    "\n",
    "    # Etape 3 : prédiction\n",
    "    Y_pred_train = RFC.predict(X_train)\n",
    "    Y_pred_test  = RFC.predict(X_test)\n",
    "\n",
    "    # Etape 4 : evaluation  (on calcule l'erreur)\n",
    "    err_train = metrics.mean_squared_error( Y_pred_train, Y_train)**0.5\n",
    "    err_test = metrics.mean_squared_error( Y_pred_test, Y_test)**0.5\n",
    "    \n",
    "    print(\"n_estimators\",n_estimators, \"erreur\",err_train ,err_test)\n",
    "    curves.append((n_estimators,err_train ,err_test, RFC)) \n",
    "\n",
    "plt.plot ( [c[0] for c in curves], [c[1] for c in curves], label=\"train\")\n",
    "plt.plot ( [c[0] for c in curves], [c[2] for c in curves], label=\"test\")\n",
    "\n",
    "plt.legend()\n",
    "# on garde la valeur par défaut n_estimators=10"
   ]
  },
  {
   "cell_type": "code",
   "execution_count": 23,
   "metadata": {},
   "outputs": [
    {
     "name": "stdout",
     "output_type": "stream",
     "text": [
      "max_depth 1 erreur 6.64777232307 6.56189738693\n",
      "max_depth 2 erreur 6.64777232307 6.56189738693\n",
      "max_depth 3 erreur 6.64167669683 6.5573430415\n",
      "max_depth 4 erreur 6.55275385158 6.47283438481\n",
      "max_depth 5 erreur 6.49516470502 6.41442220037\n",
      "max_depth 6 erreur 6.03161239687 6.02073786479\n",
      "max_depth 7 erreur 6.09641456191 6.06051769871\n",
      "max_depth 8 erreur 6.37872424449 6.30293681726\n",
      "max_depth 9 erreur 4.93012826392 4.99679682728\n",
      "max_depth 10 erreur 4.65432112199 4.76402927733\n",
      "max_depth 11 erreur 3.27016059458 3.58583727745\n",
      "max_depth 12 erreur 3.50477799484 3.84414616652\n",
      "max_depth 13 erreur 2.10917697482 2.75275110397\n",
      "max_depth 14 erreur 1.74665320648 2.57398572344\n",
      "max_depth 15 erreur 1.46847462605 2.51695502777\n",
      "max_depth 16 erreur 0.964223540332 2.277524941\n",
      "max_depth 17 erreur 0.969022576554 2.31279400297\n",
      "max_depth 18 erreur 0.792518885012 2.24873249928\n",
      "max_depth 19 erreur 0.735332995535 2.2367878835\n",
      "max_depth 20 erreur 0.700953411227 2.24090289751\n",
      "max_depth 21 erreur 0.637839667788 2.21708684106\n",
      "max_depth 22 erreur 0.665633944273 2.20555892259\n",
      "max_depth 23 erreur 0.665028914052 2.22317039005\n",
      "max_depth 24 erreur 0.665432328656 2.22288873924\n",
      "max_depth 25 erreur 0.656879417345 2.22951818599\n",
      "max_depth 26 erreur 0.64176450327 2.24397424084\n",
      "max_depth 27 erreur 0.684320641272 2.25294480319\n",
      "max_depth 28 erreur 0.660575093439 2.22911696259\n",
      "max_depth 29 erreur 0.647266674669 2.21306900448\n",
      "max_depth 30 erreur 0.628972576565 2.22873573346\n",
      "max_depth 31 erreur 0.682328927214 2.2189620291\n",
      "max_depth 32 erreur 0.644357863044 2.2114112898\n",
      "max_depth 33 erreur 0.629703586101 2.24918987602\n",
      "max_depth 34 erreur 0.63407194546 2.22399501936\n",
      "max_depth 35 erreur 0.674189523481 2.23316600625\n",
      "max_depth 36 erreur 0.690677732894 2.24231942911\n",
      "max_depth 37 erreur 0.611291542637 2.20991423595\n",
      "max_depth 38 erreur 0.616443887969 2.24231942911\n",
      "max_depth 39 erreur 0.62649912221 2.23138292712\n"
     ]
    },
    {
     "data": {
      "text/plain": [
       "<matplotlib.legend.Legend at 0x6503195e10>"
      ]
     },
     "execution_count": 23,
     "metadata": {},
     "output_type": "execute_result"
    },
    {
     "data": {
      "image/png": "[encoded data removed]",
      "text/plain": [
       "<matplotlib.figure.Figure at 0x650532c550>"
      ]
     },
     "metadata": {},
     "output_type": "display_data"
    }
   ],
   "source": [
    "# on fait varier a profondeur maximale de l'arbre.\n",
    "curves = []\n",
    "for max_depth in range(1,40) :\n",
    "\n",
    "    # Etape 1 : définition des paramètres\n",
    "    RFC= RandomForestClassifier(n_estimators = 10, max_depth=max_depth)\n",
    "    \n",
    "    # Etape 2 : apprentissage\n",
    "    RFC = RFC.fit(X_train,  Y_train[\"Mortality_cat\"].ravel())  #attention c'est assez long à tourner\n",
    "\n",
    "    # Etape 3 : prédiction\n",
    "    Y_pred_train = RFC.predict(X_train)\n",
    "    Y_pred_test  = RFC.predict(X_test)\n",
    "\n",
    "    # Etape 4 : evaluation  (on calcule l'erreur)\n",
    "    err_train = metrics.mean_squared_error( Y_pred_train, Y_train)**0.5\n",
    "    err_test = metrics.mean_squared_error( Y_pred_test, Y_test)**0.5\n",
    "    \n",
    "    print(\"max_depth\",max_depth, \"erreur\",err_train ,err_test)\n",
    "    curves.append((max_depth,err_train ,err_test, RFC)) \n",
    "\n",
    "plt.plot ( [c[0] for c in curves], [c[1] for c in curves], label=\"train\")\n",
    "plt.plot ( [c[0] for c in curves], [c[2] for c in curves], label=\"test\")\n",
    "\n",
    "plt.legend()  \n",
    "# on choisit max_depth = 20"
   ]
  },
  {
   "cell_type": "code",
   "execution_count": 27,
   "metadata": {},
   "outputs": [
    {
     "data": {
      "text/plain": [
       "<matplotlib.legend.Legend at 0x9544f31ba8>"
      ]
     },
     "execution_count": 27,
     "metadata": {},
     "output_type": "execute_result"
    },
    {
     "data": {
      "image/png": "[encoded data removed]",
      "text/plain": [
       "<matplotlib.figure.Figure at 0x953cd886d8>"
      ]
     },
     "metadata": {},
     "output_type": "display_data"
    }
   ],
   "source": [
    "# on fait varier le nombre de variables tirées aléatoirement pour la recherche de la division optimale d’un nœud.\n",
    "curves = []\n",
    "for max_features in range(1,80) :\n",
    "\n",
    "    # Etape 1 : définition des paramètres\n",
    "    RFC= RandomForestClassifier(n_estimators = 10, max_depth=20, max_features=max_features)\n",
    "    \n",
    "    # Etape 2 : apprentissage\n",
    "    RFC = RFC.fit(X_train,  Y_train[\"Mortality_cat\"].ravel())  #attention c'est assez long à tourner\n",
    "\n",
    "    # Etape 3 : prédiction\n",
    "    Y_pred_train = RFC.predict(X_train)\n",
    "    Y_pred_test  = RFC.predict(X_test)\n",
    "\n",
    "    # Etape 4 : evaluation  (on calcule l'erreur)\n",
    "    err_train = metrics.mean_squared_error( Y_pred_train, Y_train)**0.5\n",
    "    err_test = metrics.mean_squared_error( Y_pred_test, Y_test)**0.5\n",
    "    \n",
    "    #print(\"max_features\",max_features, \"erreur\",err_train ,err_test)\n",
    "    curves.append((max_features,err_train ,err_test, RFC)) \n",
    "\n",
    "plt.plot ( [c[0] for c in curves], [c[1] for c in curves], label=\"train\")\n",
    "plt.plot ( [c[0] for c in curves], [c[2] for c in curves], label=\"test\")\n",
    "\n",
    "plt.legend()  \n",
    "# on choisit max_depth = 70"
   ]
  },
  {
   "cell_type": "code",
   "execution_count": 17,
   "metadata": {},
   "outputs": [
    {
     "name": "stdout",
     "output_type": "stream",
     "text": [
      "RMSE_train 0.475596784886\n",
      "RMSE_test 1.786753084\n",
      "R2_train 0.980179420334\n",
      "R2_test 0.664669051878\n",
      "Wall time: 3.87 s\n"
     ]
    }
   ],
   "source": [
    "%%time\n",
    "# Le modèle final est le suivant :\n",
    "\n",
    "# Etape 1 : définition des paramètres\n",
    "RFC= RandomForestClassifier(n_estimators = 10, max_depth=20, max_features=70)\n",
    "\n",
    "# Etape 2 : apprentissage\n",
    "RFC = RFC.fit(X_train,  Y_train[\"Mortality_cat\"].ravel())  #attention c'est assez long à tourner\n",
    "\n",
    "# Etape 3 : prédiction\n",
    "Y_pred_train = RFC.predict(X_train)\n",
    "Y_pred_test  = RFC.predict(X_test)\n",
    "\n",
    "# Etape 4 : evaluation  (on calcule l'erreur)\n",
    "\n",
    "# on calcule l'erreur (RMSE)\n",
    "err_train = metrics.mean_squared_error( Y_pred_train, Y_train)**0.5\n",
    "err_test = metrics.mean_squared_error( Y_pred_test, Y_test)**0.5\n",
    "print(\"RMSE_train\", err_train)\n",
    "print(\"RMSE_test\", err_test)\n",
    "\n",
    "# R2\n",
    "R2_train = RFC.score(X_train, Y_train)\n",
    "R2_test = RFC.score(X_test, Y_test)\n",
    "print(\"R2_train\",R2_train)\n",
    "print(\"R2_test\",R2_test)"
   ]
  },
  {
   "cell_type": "markdown",
   "metadata": {
    "collapsed": true
   },
   "source": [
    "A présent, nous utilisons une méthode automatique de recherche des paramètres pour comparer les résultats."
   ]
  },
  {
   "cell_type": "code",
   "execution_count": null,
   "metadata": {
    "collapsed": true
   },
   "outputs": [],
   "source": [
    "#outil grille de recherche\n",
    "from sklearn.grid_search import GridSearchCV\n",
    "\n",
    "#combinaisons de paramètres à tester : Scikit-learn va évaluer toutes les combinaisons\n",
    "parametres = {\"max_depth\":[15,16,17,18,19,20,21,22,23,24,25],\"max_features\":[60,61,62,63,64,65,66,67,68,69,70,71,72,73,74,75,76,77,78,79,80]}\n",
    "\n",
    "#classifieur à utiliser – Random Forest\n",
    "RFC= RandomForestClassifier()\n",
    "#instanciation de la recherche\n",
    "grille = GridSearchCV(estimator=RFC,param_grid=parametres)\n",
    "\n",
    "#lancer l'exploration\n",
    "resultats = grille.fit(X_train,Y_train[\"Mortality_cat\"].ravel())\n",
    "print(resultats.best_params_)\n",
    "#prédiction avec le ‘’meilleur’’ modèle identifié\n",
    "Y_pred_train = resultats.predict(X_train)\n",
    "Y_pred_test = resultats.predict(X_test) \n",
    "#performances du ‘’meilleur’’ modèle : \n",
    "# RMSE\n",
    "err_train = metrics.mean_squared_error( Y_pred_train, Y_train)**0.5\n",
    "err_test = metrics.mean_squared_error( Y_pred_test, Y_test)**0.5\n",
    "print(err_train)\n",
    "print(err_test)\n",
    "# R2\n",
    "R2_train = resultats.score(X_test, Y_test)\n",
    "R2_test = resultats.score(X_test, Y_test)\n",
    "print(R2_train)\n",
    "print(R2_test)\n"
   ]
  },
  {
   "cell_type": "markdown",
   "metadata": {},
   "source": [
    " {'max_depth': 17, 'max_features': 77}\n",
    "\n",
    "    RMSE_train 0.544134072891\n",
    "    RMSE_test 1.75082398184\n",
    "    R2_train 0.965266063487\n",
    "    R2_test 0.965266063487\n",
    "   \n",
    "les résultats avec cette méthode sont pas stable et moins bons"
   ]
  },
  {
   "cell_type": "markdown",
   "metadata": {},
   "source": [
    "# Méthode Boosting : ici, nous allons voir l'algorithme de Gradient Boosting Machine (gbm) pour une classification."
   ]
  },
  {
   "cell_type": "markdown",
   "metadata": {},
   "source": [
    "# Gradient Bossting Machine Classification"
   ]
  },
  {
   "cell_type": "markdown",
   "metadata": {},
   "source": [
    "GB construit un modèle additif; il permet l'optimisation de fonctions de pertes différentiables arbitraires. A chaque étape, n_classes_ les arbres de régression sont ajustés sur le gradient négatif de la fonction de perte de déviance binomiale ou multinomiale. La classification binaire est un cas particulier où un seul arbre de régression est induit."
   ]
  },
  {
   "cell_type": "code",
   "execution_count": 16,
   "metadata": {},
   "outputs": [
    {
     "name": "stdout",
     "output_type": "stream",
     "text": [
      "Mortality_cat\n",
      "1       0.000000\n",
      "2       0.104974\n",
      "3       0.375507\n",
      "4       0.855722\n",
      "5       1.958020\n",
      "6       4.333836\n",
      "7       8.759500\n",
      "8      15.763014\n",
      "9      26.243081\n",
      "10     41.913380\n",
      "11     67.882232\n",
      "12    113.848249\n",
      "13    206.613198\n",
      "14    302.866096\n",
      "15    355.358866\n",
      "16    434.428403\n",
      "17    612.906082\n",
      "18    938.472516\n",
      "Name: Mortality_rate, dtype: float64\n"
     ]
    }
   ],
   "source": [
    "# on crée des tranches pour la variables taux de mortalité\n",
    "data['Mortality_rate'].describe()\n",
    "data.sort_values(by=['Mortality_rate'], ascending=False)\n",
    "data['Mortality_rate'].quantile([0,.1,.2,.3,.35,.4,.45,.5,.55,.6,.65,.7,.75,.8,.85,.9,.95,.96,.97,.98,.99,1])\n",
    "data[data['Mortality_rate']==0].count() # il y a 13051 lignes avec des zéros sur 37264 au total => il y a 35.0230786% avec des zéros\n",
    " \n",
    "# on crée 18 tranches\n",
    "data['Mortality_cat'] = pd.qcut(data['Mortality_rate'] , q = [0,0.350230786,0.4,.45,.5,.55,.6,.65,.7,.75,.8,.85,.9,.95,.96,.97,.98,.99,1], \n",
    "    labels = [1,2,3,4,5,6,7,8,9,10,11,12,13,14,15,16,17,18]) \n",
    "data.groupby(['Mortality_cat'])['Mortality_cat'].count()\n",
    "print(data.groupby(['Mortality_cat'])['Mortality_rate'].mean())"
   ]
  },
  {
   "cell_type": "code",
   "execution_count": 17,
   "metadata": {
    "collapsed": true
   },
   "outputs": [],
   "source": [
    "# variable à expliquer\n",
    "Y= data[\"Mortality_cat\"] \n",
    "type(Y)\n",
    "Y2 = pd.DataFrame({'Mortality_cat':Y})\n",
    "\n",
    "# variables explicatives\n",
    "X= data[[\"Sex\",\"Age_bucket\",\"Year\",\"Country\", \"SP.URB.TOTL.IN.ZS\",\"SP.URB.GROW\",\"SP.POP.GROW\",\"SE.PRM.DURS\",\n",
    "\"AG.SRF.TOTL.K2\",\"SE.PRE.DURS\",\"EN.POP.DNST\",\"SE.SEC.DURS\",\"SP.DYN.CBRT.IN\",\"SP.DYN.CDRT.IN\",\n",
    "\"NY.ADJ.AEDU.GN.ZS\", \"SP.DYN.TFRT.IN\", \"SP.ADO.TFRT\", \"SP.DYN.LE00.FE.IN\", \"SP.DYN.LE00.IN\",\n",
    "\"SP.POP.DPND\",\"SP.DYN.AMRT.FE\",\"SP.DYN.AMRT.MA\",\"EN.ATM.NOXE.KT.CE\",\"EN.ATM.METH.KT.CE\",\n",
    "\"AG.LND.AGRI.K2\", \"EN.ATM.GHGO.KT.CE\",\"AG.LND.AGRI.ZS\",\"AG.PRD.FOOD.XD\",\"IT.CEL.SETS\",\n",
    "\"AG.PRD.LVSK.XD\",\"AG.PRD.CROP.XD\",\"IT.MLT.MAIN\",\"EN.ATM.GHGT.KT.CE\",\"EN.ATM.CO2E.GF.ZS\",\n",
    "\"EN.ATM.CO2E.LF.ZS\",\"EN.ATM.CO2E.SF.ZS\",\"NY.GDP.FRST.RT.ZS\",\"NY.GDP.MINR.RT.ZS\",\"EN.ATM.CO2E.LF.KT\",\n",
    "\"EN.ATM.METH.AG.KT.CE\",\"EN.ATM.METH.EG.KT.CE\",\"EN.ATM.NOXE.AG.KT.CE\", \"EN.ATM.NOXE.EG.KT.CE\",\n",
    "\"NY.GDP.TOTL.RT.ZS\", \"EN.ATM.CO2E.KT\",\"EN.ATM.CO2E.PC\",\"NY.GDP.MKTP.CD\",\"NY.GDP.PCAP.CD\"]] \n",
    "\n",
    "# On transforme les variables sous forme de chaînes de caractères en variables binaires :\n",
    "# Ici, seul la variable country est concernée\n",
    "X2 = X.T.to_dict().values()\n",
    "from sklearn.feature_extraction import DictVectorizer\n",
    "prep = DictVectorizer()\n",
    "X3 = prep.fit_transform(X2).toarray()\n",
    "\n",
    "# on constitut nos deux échantillons \"train\" et \"test\" \n",
    "from sklearn.model_selection import train_test_split\n",
    "X_train, X_test, Y_train, Y_test = train_test_split(X3, Y2, test_size=0.3)"
   ]
  },
  {
   "cell_type": "code",
   "execution_count": 33,
   "metadata": {},
   "outputs": [
    {
     "name": "stdout",
     "output_type": "stream",
     "text": [
      "1.67401640698\n",
      "1.79067850744\n",
      "0.693911976691\n",
      "0.607602862254\n"
     ]
    }
   ],
   "source": [
    "#importation de la classe GradientBoostingClassifier\n",
    "from sklearn.ensemble import GradientBoostingClassifier\n",
    "from sklearn import metrics\n",
    "\n",
    "# Etape 1 : définition des paramètres\n",
    "GB = GradientBoostingClassifier(learning_rate=0.1,max_depth=3,subsample=1.0)\n",
    "\n",
    "# Etape 2 : apprentissage\n",
    "GB = GB.fit(X_train,  Y_train[\"Mortality_cat\"].ravel())  #attention c'est assez long à tourner 12 min\n",
    "\n",
    "# Etape 3 : prédiction\n",
    "Y_pred_train = GB.predict(X_train)\n",
    "Y_pred_test = GB.predict(X_test)\n",
    "\n",
    "# Etape 4 : evaluation  (on calcule l'erreur)\n",
    "\n",
    "# on calcule l'erreur (RMSE)\n",
    "err_train = metrics.mean_squared_error( Y_pred_train, Y_train)**0.5\n",
    "err_test = metrics.mean_squared_error( Y_pred_test, Y_test)**0.5\n",
    "print(err_train)\n",
    "print(err_test)\n",
    "\n",
    "# R2\n",
    "R2_train = GB.score(X_train, Y_train)\n",
    "R2_test = GB.score(X_test, Y_test)\n",
    "print(R2_train)\n",
    "print(R2_test)"
   ]
  },
  {
   "cell_type": "markdown",
   "metadata": {},
   "source": [
    "On pourrait certainement trouver de meilleurs résultats en testant d'autres paramètres, mais le temps de traitement est très long juste pour un seul algorithme. Je n'ai pas creusé cette piste."
   ]
  }
 ],
 "metadata": {
  "kernelspec": {
   "display_name": "Python 3",
   "language": "python",
   "name": "python3"
  },
  "language_info": {
   "codemirror_mode": {
    "name": "ipython",
    "version": 3
   },
   "file_extension": ".py",
   "mimetype": "text/x-python",
   "name": "python",
   "nbconvert_exporter": "python",
   "pygments_lexer": "ipython3",
   "version": "3.6.3"
  }
 },
 "nbformat": 4,
 "nbformat_minor": 2
}
